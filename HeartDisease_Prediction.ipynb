{
  "cells": [
    {
      "cell_type": "markdown",
      "metadata": {
        "id": "tE0mMFXWyC85"
      },
      "source": [
        "# ***PREDICTING HEART DISEASES USING MACHINE LEARNING ALGORITHMS***"
      ]
    },
    {
      "cell_type": "code",
      "execution_count": null,
      "metadata": {
        "id": "ONl7IOxdZUjD"
      },
      "outputs": [],
      "source": [
        "import numpy as np\n",
        "import pandas as pd\n",
        "import matplotlib.pyplot as plt\n",
        "import seaborn as sns\n",
        "from sklearn.metrics import accuracy_score, classification_report\n",
        "from sklearn.metrics import f1_score\n",
        "from sklearn.metrics import recall_score\n",
        "from sklearn.metrics import precision_score\n",
        "from sklearn.metrics import accuracy_score\n",
        "from sklearn.metrics import fbeta_score"
      ]
    },
    {
      "cell_type": "code",
      "execution_count": null,
      "metadata": {
        "id": "lhmlpy67ZUjE"
      },
      "outputs": [],
      "source": [
        "dataset = pd.read_csv(\"heart.csv\")"
      ]
    },
    {
      "cell_type": "markdown",
      "metadata": {
        "id": "-VryprAZZmml"
      },
      "source": [
        "Finding the type of dataset, lists or dataframe?"
      ]
    },
    {
      "cell_type": "code",
      "execution_count": null,
      "metadata": {
        "colab": {
          "base_uri": "https://localhost:8080/"
        },
        "id": "VqNPm_oWZUjF",
        "outputId": "a60d3252-f0ab-4501-9e21-13f425f9b6e9"
      },
      "outputs": [
        {
          "data": {
            "text/plain": [
              "pandas.core.frame.DataFrame"
            ]
          },
          "execution_count": 3,
          "metadata": {},
          "output_type": "execute_result"
        }
      ],
      "source": [
        "type(dataset)"
      ]
    },
    {
      "cell_type": "markdown",
      "metadata": {
        "id": "EtaSI2XGaQkk"
      },
      "source": [
        "PRE-PROCESSING/ UNDERSTANDING THE DATA"
      ]
    },
    {
      "cell_type": "code",
      "execution_count": null,
      "metadata": {
        "colab": {
          "base_uri": "https://localhost:8080/"
        },
        "id": "-gB_imozZUjF",
        "outputId": "74eb8b06-4bfc-4ff8-ec51-5a8f4d9b8f43"
      },
      "outputs": [
        {
          "data": {
            "text/plain": [
              "(1025, 14)"
            ]
          },
          "execution_count": 4,
          "metadata": {},
          "output_type": "execute_result"
        }
      ],
      "source": [
        "dataset.shape"
      ]
    },
    {
      "cell_type": "code",
      "execution_count": null,
      "metadata": {
        "colab": {
          "base_uri": "https://localhost:8080/",
          "height": 206
        },
        "id": "vemnCHlZZUjF",
        "outputId": "53f78b0f-2c3f-44a5-9ef7-6f4cf420acd7"
      },
      "outputs": [
        {
          "data": {
            "text/html": [
              "\n",
              "  <div id=\"df-9747c14f-3b31-4449-b2d8-6cb304af4a57\">\n",
              "    <div class=\"colab-df-container\">\n",
              "      <div>\n",
              "<style scoped>\n",
              "    .dataframe tbody tr th:only-of-type {\n",
              "        vertical-align: middle;\n",
              "    }\n",
              "\n",
              "    .dataframe tbody tr th {\n",
              "        vertical-align: top;\n",
              "    }\n",
              "\n",
              "    .dataframe thead th {\n",
              "        text-align: right;\n",
              "    }\n",
              "</style>\n",
              "<table border=\"1\" class=\"dataframe\">\n",
              "  <thead>\n",
              "    <tr style=\"text-align: right;\">\n",
              "      <th></th>\n",
              "      <th>age</th>\n",
              "      <th>sex</th>\n",
              "      <th>cp</th>\n",
              "      <th>trestbps</th>\n",
              "      <th>chol</th>\n",
              "      <th>fbs</th>\n",
              "      <th>restecg</th>\n",
              "      <th>thalach</th>\n",
              "      <th>exang</th>\n",
              "      <th>oldpeak</th>\n",
              "      <th>slope</th>\n",
              "      <th>ca</th>\n",
              "      <th>thal</th>\n",
              "      <th>target</th>\n",
              "    </tr>\n",
              "  </thead>\n",
              "  <tbody>\n",
              "    <tr>\n",
              "      <th>0</th>\n",
              "      <td>52</td>\n",
              "      <td>1</td>\n",
              "      <td>0</td>\n",
              "      <td>125</td>\n",
              "      <td>212</td>\n",
              "      <td>0</td>\n",
              "      <td>1</td>\n",
              "      <td>168</td>\n",
              "      <td>0</td>\n",
              "      <td>1.0</td>\n",
              "      <td>2</td>\n",
              "      <td>2</td>\n",
              "      <td>3</td>\n",
              "      <td>0</td>\n",
              "    </tr>\n",
              "    <tr>\n",
              "      <th>1</th>\n",
              "      <td>53</td>\n",
              "      <td>1</td>\n",
              "      <td>0</td>\n",
              "      <td>140</td>\n",
              "      <td>203</td>\n",
              "      <td>1</td>\n",
              "      <td>0</td>\n",
              "      <td>155</td>\n",
              "      <td>1</td>\n",
              "      <td>3.1</td>\n",
              "      <td>0</td>\n",
              "      <td>0</td>\n",
              "      <td>3</td>\n",
              "      <td>0</td>\n",
              "    </tr>\n",
              "    <tr>\n",
              "      <th>2</th>\n",
              "      <td>70</td>\n",
              "      <td>1</td>\n",
              "      <td>0</td>\n",
              "      <td>145</td>\n",
              "      <td>174</td>\n",
              "      <td>0</td>\n",
              "      <td>1</td>\n",
              "      <td>125</td>\n",
              "      <td>1</td>\n",
              "      <td>2.6</td>\n",
              "      <td>0</td>\n",
              "      <td>0</td>\n",
              "      <td>3</td>\n",
              "      <td>0</td>\n",
              "    </tr>\n",
              "    <tr>\n",
              "      <th>3</th>\n",
              "      <td>61</td>\n",
              "      <td>1</td>\n",
              "      <td>0</td>\n",
              "      <td>148</td>\n",
              "      <td>203</td>\n",
              "      <td>0</td>\n",
              "      <td>1</td>\n",
              "      <td>161</td>\n",
              "      <td>0</td>\n",
              "      <td>0.0</td>\n",
              "      <td>2</td>\n",
              "      <td>1</td>\n",
              "      <td>3</td>\n",
              "      <td>0</td>\n",
              "    </tr>\n",
              "    <tr>\n",
              "      <th>4</th>\n",
              "      <td>62</td>\n",
              "      <td>0</td>\n",
              "      <td>0</td>\n",
              "      <td>138</td>\n",
              "      <td>294</td>\n",
              "      <td>1</td>\n",
              "      <td>1</td>\n",
              "      <td>106</td>\n",
              "      <td>0</td>\n",
              "      <td>1.9</td>\n",
              "      <td>1</td>\n",
              "      <td>3</td>\n",
              "      <td>2</td>\n",
              "      <td>0</td>\n",
              "    </tr>\n",
              "  </tbody>\n",
              "</table>\n",
              "</div>\n",
              "      <button class=\"colab-df-convert\" onclick=\"convertToInteractive('df-9747c14f-3b31-4449-b2d8-6cb304af4a57')\"\n",
              "              title=\"Convert this dataframe to an interactive table.\"\n",
              "              style=\"display:none;\">\n",
              "        \n",
              "  <svg xmlns=\"http://www.w3.org/2000/svg\" height=\"24px\"viewBox=\"0 0 24 24\"\n",
              "       width=\"24px\">\n",
              "    <path d=\"M0 0h24v24H0V0z\" fill=\"none\"/>\n",
              "    <path d=\"M18.56 5.44l.94 2.06.94-2.06 2.06-.94-2.06-.94-.94-2.06-.94 2.06-2.06.94zm-11 1L8.5 8.5l.94-2.06 2.06-.94-2.06-.94L8.5 2.5l-.94 2.06-2.06.94zm10 10l.94 2.06.94-2.06 2.06-.94-2.06-.94-.94-2.06-.94 2.06-2.06.94z\"/><path d=\"M17.41 7.96l-1.37-1.37c-.4-.4-.92-.59-1.43-.59-.52 0-1.04.2-1.43.59L10.3 9.45l-7.72 7.72c-.78.78-.78 2.05 0 2.83L4 21.41c.39.39.9.59 1.41.59.51 0 1.02-.2 1.41-.59l7.78-7.78 2.81-2.81c.8-.78.8-2.07 0-2.86zM5.41 20L4 18.59l7.72-7.72 1.47 1.35L5.41 20z\"/>\n",
              "  </svg>\n",
              "      </button>\n",
              "      \n",
              "  <style>\n",
              "    .colab-df-container {\n",
              "      display:flex;\n",
              "      flex-wrap:wrap;\n",
              "      gap: 12px;\n",
              "    }\n",
              "\n",
              "    .colab-df-convert {\n",
              "      background-color: #E8F0FE;\n",
              "      border: none;\n",
              "      border-radius: 50%;\n",
              "      cursor: pointer;\n",
              "      display: none;\n",
              "      fill: #1967D2;\n",
              "      height: 32px;\n",
              "      padding: 0 0 0 0;\n",
              "      width: 32px;\n",
              "    }\n",
              "\n",
              "    .colab-df-convert:hover {\n",
              "      background-color: #E2EBFA;\n",
              "      box-shadow: 0px 1px 2px rgba(60, 64, 67, 0.3), 0px 1px 3px 1px rgba(60, 64, 67, 0.15);\n",
              "      fill: #174EA6;\n",
              "    }\n",
              "\n",
              "    [theme=dark] .colab-df-convert {\n",
              "      background-color: #3B4455;\n",
              "      fill: #D2E3FC;\n",
              "    }\n",
              "\n",
              "    [theme=dark] .colab-df-convert:hover {\n",
              "      background-color: #434B5C;\n",
              "      box-shadow: 0px 1px 3px 1px rgba(0, 0, 0, 0.15);\n",
              "      filter: drop-shadow(0px 1px 2px rgba(0, 0, 0, 0.3));\n",
              "      fill: #FFFFFF;\n",
              "    }\n",
              "  </style>\n",
              "\n",
              "      <script>\n",
              "        const buttonEl =\n",
              "          document.querySelector('#df-9747c14f-3b31-4449-b2d8-6cb304af4a57 button.colab-df-convert');\n",
              "        buttonEl.style.display =\n",
              "          google.colab.kernel.accessAllowed ? 'block' : 'none';\n",
              "\n",
              "        async function convertToInteractive(key) {\n",
              "          const element = document.querySelector('#df-9747c14f-3b31-4449-b2d8-6cb304af4a57');\n",
              "          const dataTable =\n",
              "            await google.colab.kernel.invokeFunction('convertToInteractive',\n",
              "                                                     [key], {});\n",
              "          if (!dataTable) return;\n",
              "\n",
              "          const docLinkHtml = 'Like what you see? Visit the ' +\n",
              "            '<a target=\"_blank\" href=https://colab.research.google.com/notebooks/data_table.ipynb>data table notebook</a>'\n",
              "            + ' to learn more about interactive tables.';\n",
              "          element.innerHTML = '';\n",
              "          dataTable['output_type'] = 'display_data';\n",
              "          await google.colab.output.renderOutput(dataTable, element);\n",
              "          const docLink = document.createElement('div');\n",
              "          docLink.innerHTML = docLinkHtml;\n",
              "          element.appendChild(docLink);\n",
              "        }\n",
              "      </script>\n",
              "    </div>\n",
              "  </div>\n",
              "  "
            ],
            "text/plain": [
              "   age  sex  cp  trestbps  chol  fbs  restecg  thalach  exang  oldpeak  slope  \\\n",
              "0   52    1   0       125   212    0        1      168      0      1.0      2   \n",
              "1   53    1   0       140   203    1        0      155      1      3.1      0   \n",
              "2   70    1   0       145   174    0        1      125      1      2.6      0   \n",
              "3   61    1   0       148   203    0        1      161      0      0.0      2   \n",
              "4   62    0   0       138   294    1        1      106      0      1.9      1   \n",
              "\n",
              "   ca  thal  target  \n",
              "0   2     3       0  \n",
              "1   0     3       0  \n",
              "2   0     3       0  \n",
              "3   1     3       0  \n",
              "4   3     2       0  "
            ]
          },
          "execution_count": 5,
          "metadata": {},
          "output_type": "execute_result"
        }
      ],
      "source": [
        "dataset.head(5)"
      ]
    },
    {
      "cell_type": "code",
      "execution_count": null,
      "metadata": {
        "colab": {
          "base_uri": "https://localhost:8080/",
          "height": 300
        },
        "id": "R8AZfVZ1ZUjG",
        "outputId": "9f35be1e-8123-40cc-ad42-d114fc5df684"
      },
      "outputs": [
        {
          "data": {
            "text/html": [
              "\n",
              "  <div id=\"df-ea78cff6-6ab3-4ab6-b4ac-e238a405ec4e\">\n",
              "    <div class=\"colab-df-container\">\n",
              "      <div>\n",
              "<style scoped>\n",
              "    .dataframe tbody tr th:only-of-type {\n",
              "        vertical-align: middle;\n",
              "    }\n",
              "\n",
              "    .dataframe tbody tr th {\n",
              "        vertical-align: top;\n",
              "    }\n",
              "\n",
              "    .dataframe thead th {\n",
              "        text-align: right;\n",
              "    }\n",
              "</style>\n",
              "<table border=\"1\" class=\"dataframe\">\n",
              "  <thead>\n",
              "    <tr style=\"text-align: right;\">\n",
              "      <th></th>\n",
              "      <th>age</th>\n",
              "      <th>sex</th>\n",
              "      <th>cp</th>\n",
              "      <th>trestbps</th>\n",
              "      <th>chol</th>\n",
              "      <th>fbs</th>\n",
              "      <th>restecg</th>\n",
              "      <th>thalach</th>\n",
              "      <th>exang</th>\n",
              "      <th>oldpeak</th>\n",
              "      <th>slope</th>\n",
              "      <th>ca</th>\n",
              "      <th>thal</th>\n",
              "      <th>target</th>\n",
              "    </tr>\n",
              "  </thead>\n",
              "  <tbody>\n",
              "    <tr>\n",
              "      <th>count</th>\n",
              "      <td>1025.000000</td>\n",
              "      <td>1025.000000</td>\n",
              "      <td>1025.000000</td>\n",
              "      <td>1025.000000</td>\n",
              "      <td>1025.00000</td>\n",
              "      <td>1025.000000</td>\n",
              "      <td>1025.000000</td>\n",
              "      <td>1025.000000</td>\n",
              "      <td>1025.000000</td>\n",
              "      <td>1025.000000</td>\n",
              "      <td>1025.000000</td>\n",
              "      <td>1025.000000</td>\n",
              "      <td>1025.000000</td>\n",
              "      <td>1025.000000</td>\n",
              "    </tr>\n",
              "    <tr>\n",
              "      <th>mean</th>\n",
              "      <td>54.434146</td>\n",
              "      <td>0.695610</td>\n",
              "      <td>0.942439</td>\n",
              "      <td>131.611707</td>\n",
              "      <td>246.00000</td>\n",
              "      <td>0.149268</td>\n",
              "      <td>0.529756</td>\n",
              "      <td>149.114146</td>\n",
              "      <td>0.336585</td>\n",
              "      <td>1.071512</td>\n",
              "      <td>1.385366</td>\n",
              "      <td>0.754146</td>\n",
              "      <td>2.323902</td>\n",
              "      <td>0.513171</td>\n",
              "    </tr>\n",
              "    <tr>\n",
              "      <th>std</th>\n",
              "      <td>9.072290</td>\n",
              "      <td>0.460373</td>\n",
              "      <td>1.029641</td>\n",
              "      <td>17.516718</td>\n",
              "      <td>51.59251</td>\n",
              "      <td>0.356527</td>\n",
              "      <td>0.527878</td>\n",
              "      <td>23.005724</td>\n",
              "      <td>0.472772</td>\n",
              "      <td>1.175053</td>\n",
              "      <td>0.617755</td>\n",
              "      <td>1.030798</td>\n",
              "      <td>0.620660</td>\n",
              "      <td>0.500070</td>\n",
              "    </tr>\n",
              "    <tr>\n",
              "      <th>min</th>\n",
              "      <td>29.000000</td>\n",
              "      <td>0.000000</td>\n",
              "      <td>0.000000</td>\n",
              "      <td>94.000000</td>\n",
              "      <td>126.00000</td>\n",
              "      <td>0.000000</td>\n",
              "      <td>0.000000</td>\n",
              "      <td>71.000000</td>\n",
              "      <td>0.000000</td>\n",
              "      <td>0.000000</td>\n",
              "      <td>0.000000</td>\n",
              "      <td>0.000000</td>\n",
              "      <td>0.000000</td>\n",
              "      <td>0.000000</td>\n",
              "    </tr>\n",
              "    <tr>\n",
              "      <th>25%</th>\n",
              "      <td>48.000000</td>\n",
              "      <td>0.000000</td>\n",
              "      <td>0.000000</td>\n",
              "      <td>120.000000</td>\n",
              "      <td>211.00000</td>\n",
              "      <td>0.000000</td>\n",
              "      <td>0.000000</td>\n",
              "      <td>132.000000</td>\n",
              "      <td>0.000000</td>\n",
              "      <td>0.000000</td>\n",
              "      <td>1.000000</td>\n",
              "      <td>0.000000</td>\n",
              "      <td>2.000000</td>\n",
              "      <td>0.000000</td>\n",
              "    </tr>\n",
              "    <tr>\n",
              "      <th>50%</th>\n",
              "      <td>56.000000</td>\n",
              "      <td>1.000000</td>\n",
              "      <td>1.000000</td>\n",
              "      <td>130.000000</td>\n",
              "      <td>240.00000</td>\n",
              "      <td>0.000000</td>\n",
              "      <td>1.000000</td>\n",
              "      <td>152.000000</td>\n",
              "      <td>0.000000</td>\n",
              "      <td>0.800000</td>\n",
              "      <td>1.000000</td>\n",
              "      <td>0.000000</td>\n",
              "      <td>2.000000</td>\n",
              "      <td>1.000000</td>\n",
              "    </tr>\n",
              "    <tr>\n",
              "      <th>75%</th>\n",
              "      <td>61.000000</td>\n",
              "      <td>1.000000</td>\n",
              "      <td>2.000000</td>\n",
              "      <td>140.000000</td>\n",
              "      <td>275.00000</td>\n",
              "      <td>0.000000</td>\n",
              "      <td>1.000000</td>\n",
              "      <td>166.000000</td>\n",
              "      <td>1.000000</td>\n",
              "      <td>1.800000</td>\n",
              "      <td>2.000000</td>\n",
              "      <td>1.000000</td>\n",
              "      <td>3.000000</td>\n",
              "      <td>1.000000</td>\n",
              "    </tr>\n",
              "    <tr>\n",
              "      <th>max</th>\n",
              "      <td>77.000000</td>\n",
              "      <td>1.000000</td>\n",
              "      <td>3.000000</td>\n",
              "      <td>200.000000</td>\n",
              "      <td>564.00000</td>\n",
              "      <td>1.000000</td>\n",
              "      <td>2.000000</td>\n",
              "      <td>202.000000</td>\n",
              "      <td>1.000000</td>\n",
              "      <td>6.200000</td>\n",
              "      <td>2.000000</td>\n",
              "      <td>4.000000</td>\n",
              "      <td>3.000000</td>\n",
              "      <td>1.000000</td>\n",
              "    </tr>\n",
              "  </tbody>\n",
              "</table>\n",
              "</div>\n",
              "      <button class=\"colab-df-convert\" onclick=\"convertToInteractive('df-ea78cff6-6ab3-4ab6-b4ac-e238a405ec4e')\"\n",
              "              title=\"Convert this dataframe to an interactive table.\"\n",
              "              style=\"display:none;\">\n",
              "        \n",
              "  <svg xmlns=\"http://www.w3.org/2000/svg\" height=\"24px\"viewBox=\"0 0 24 24\"\n",
              "       width=\"24px\">\n",
              "    <path d=\"M0 0h24v24H0V0z\" fill=\"none\"/>\n",
              "    <path d=\"M18.56 5.44l.94 2.06.94-2.06 2.06-.94-2.06-.94-.94-2.06-.94 2.06-2.06.94zm-11 1L8.5 8.5l.94-2.06 2.06-.94-2.06-.94L8.5 2.5l-.94 2.06-2.06.94zm10 10l.94 2.06.94-2.06 2.06-.94-2.06-.94-.94-2.06-.94 2.06-2.06.94z\"/><path d=\"M17.41 7.96l-1.37-1.37c-.4-.4-.92-.59-1.43-.59-.52 0-1.04.2-1.43.59L10.3 9.45l-7.72 7.72c-.78.78-.78 2.05 0 2.83L4 21.41c.39.39.9.59 1.41.59.51 0 1.02-.2 1.41-.59l7.78-7.78 2.81-2.81c.8-.78.8-2.07 0-2.86zM5.41 20L4 18.59l7.72-7.72 1.47 1.35L5.41 20z\"/>\n",
              "  </svg>\n",
              "      </button>\n",
              "      \n",
              "  <style>\n",
              "    .colab-df-container {\n",
              "      display:flex;\n",
              "      flex-wrap:wrap;\n",
              "      gap: 12px;\n",
              "    }\n",
              "\n",
              "    .colab-df-convert {\n",
              "      background-color: #E8F0FE;\n",
              "      border: none;\n",
              "      border-radius: 50%;\n",
              "      cursor: pointer;\n",
              "      display: none;\n",
              "      fill: #1967D2;\n",
              "      height: 32px;\n",
              "      padding: 0 0 0 0;\n",
              "      width: 32px;\n",
              "    }\n",
              "\n",
              "    .colab-df-convert:hover {\n",
              "      background-color: #E2EBFA;\n",
              "      box-shadow: 0px 1px 2px rgba(60, 64, 67, 0.3), 0px 1px 3px 1px rgba(60, 64, 67, 0.15);\n",
              "      fill: #174EA6;\n",
              "    }\n",
              "\n",
              "    [theme=dark] .colab-df-convert {\n",
              "      background-color: #3B4455;\n",
              "      fill: #D2E3FC;\n",
              "    }\n",
              "\n",
              "    [theme=dark] .colab-df-convert:hover {\n",
              "      background-color: #434B5C;\n",
              "      box-shadow: 0px 1px 3px 1px rgba(0, 0, 0, 0.15);\n",
              "      filter: drop-shadow(0px 1px 2px rgba(0, 0, 0, 0.3));\n",
              "      fill: #FFFFFF;\n",
              "    }\n",
              "  </style>\n",
              "\n",
              "      <script>\n",
              "        const buttonEl =\n",
              "          document.querySelector('#df-ea78cff6-6ab3-4ab6-b4ac-e238a405ec4e button.colab-df-convert');\n",
              "        buttonEl.style.display =\n",
              "          google.colab.kernel.accessAllowed ? 'block' : 'none';\n",
              "\n",
              "        async function convertToInteractive(key) {\n",
              "          const element = document.querySelector('#df-ea78cff6-6ab3-4ab6-b4ac-e238a405ec4e');\n",
              "          const dataTable =\n",
              "            await google.colab.kernel.invokeFunction('convertToInteractive',\n",
              "                                                     [key], {});\n",
              "          if (!dataTable) return;\n",
              "\n",
              "          const docLinkHtml = 'Like what you see? Visit the ' +\n",
              "            '<a target=\"_blank\" href=https://colab.research.google.com/notebooks/data_table.ipynb>data table notebook</a>'\n",
              "            + ' to learn more about interactive tables.';\n",
              "          element.innerHTML = '';\n",
              "          dataTable['output_type'] = 'display_data';\n",
              "          await google.colab.output.renderOutput(dataTable, element);\n",
              "          const docLink = document.createElement('div');\n",
              "          docLink.innerHTML = docLinkHtml;\n",
              "          element.appendChild(docLink);\n",
              "        }\n",
              "      </script>\n",
              "    </div>\n",
              "  </div>\n",
              "  "
            ],
            "text/plain": [
              "               age          sex           cp     trestbps        chol  \\\n",
              "count  1025.000000  1025.000000  1025.000000  1025.000000  1025.00000   \n",
              "mean     54.434146     0.695610     0.942439   131.611707   246.00000   \n",
              "std       9.072290     0.460373     1.029641    17.516718    51.59251   \n",
              "min      29.000000     0.000000     0.000000    94.000000   126.00000   \n",
              "25%      48.000000     0.000000     0.000000   120.000000   211.00000   \n",
              "50%      56.000000     1.000000     1.000000   130.000000   240.00000   \n",
              "75%      61.000000     1.000000     2.000000   140.000000   275.00000   \n",
              "max      77.000000     1.000000     3.000000   200.000000   564.00000   \n",
              "\n",
              "               fbs      restecg      thalach        exang      oldpeak  \\\n",
              "count  1025.000000  1025.000000  1025.000000  1025.000000  1025.000000   \n",
              "mean      0.149268     0.529756   149.114146     0.336585     1.071512   \n",
              "std       0.356527     0.527878    23.005724     0.472772     1.175053   \n",
              "min       0.000000     0.000000    71.000000     0.000000     0.000000   \n",
              "25%       0.000000     0.000000   132.000000     0.000000     0.000000   \n",
              "50%       0.000000     1.000000   152.000000     0.000000     0.800000   \n",
              "75%       0.000000     1.000000   166.000000     1.000000     1.800000   \n",
              "max       1.000000     2.000000   202.000000     1.000000     6.200000   \n",
              "\n",
              "             slope           ca         thal       target  \n",
              "count  1025.000000  1025.000000  1025.000000  1025.000000  \n",
              "mean      1.385366     0.754146     2.323902     0.513171  \n",
              "std       0.617755     1.030798     0.620660     0.500070  \n",
              "min       0.000000     0.000000     0.000000     0.000000  \n",
              "25%       1.000000     0.000000     2.000000     0.000000  \n",
              "50%       1.000000     0.000000     2.000000     1.000000  \n",
              "75%       2.000000     1.000000     3.000000     1.000000  \n",
              "max       2.000000     4.000000     3.000000     1.000000  "
            ]
          },
          "execution_count": 6,
          "metadata": {},
          "output_type": "execute_result"
        }
      ],
      "source": [
        "dataset.describe()"
      ]
    },
    {
      "cell_type": "code",
      "execution_count": null,
      "metadata": {
        "colab": {
          "base_uri": "https://localhost:8080/"
        },
        "id": "Dr3YvqhPZUjG",
        "outputId": "7d01961f-5a38-46f0-e46a-85cc2687c788"
      },
      "outputs": [
        {
          "name": "stdout",
          "output_type": "stream",
          "text": [
            "<class 'pandas.core.frame.DataFrame'>\n",
            "RangeIndex: 1025 entries, 0 to 1024\n",
            "Data columns (total 14 columns):\n",
            " #   Column    Non-Null Count  Dtype  \n",
            "---  ------    --------------  -----  \n",
            " 0   age       1025 non-null   int64  \n",
            " 1   sex       1025 non-null   int64  \n",
            " 2   cp        1025 non-null   int64  \n",
            " 3   trestbps  1025 non-null   int64  \n",
            " 4   chol      1025 non-null   int64  \n",
            " 5   fbs       1025 non-null   int64  \n",
            " 6   restecg   1025 non-null   int64  \n",
            " 7   thalach   1025 non-null   int64  \n",
            " 8   exang     1025 non-null   int64  \n",
            " 9   oldpeak   1025 non-null   float64\n",
            " 10  slope     1025 non-null   int64  \n",
            " 11  ca        1025 non-null   int64  \n",
            " 12  thal      1025 non-null   int64  \n",
            " 13  target    1025 non-null   int64  \n",
            "dtypes: float64(1), int64(13)\n",
            "memory usage: 112.2 KB\n"
          ]
        }
      ],
      "source": [
        "dataset.info()"
      ]
    },
    {
      "cell_type": "code",
      "execution_count": null,
      "metadata": {
        "colab": {
          "base_uri": "https://localhost:8080/"
        },
        "id": "ZO0mcry0ZUjG",
        "outputId": "785cd9e4-03a3-4e4d-f1a9-cd1fae740785"
      },
      "outputs": [
        {
          "name": "stdout",
          "output_type": "stream",
          "text": [
            "age:\t\t\tage\n",
            "sex:\t\t\t1: male, 0: female\n",
            "cp:\t\t\tchest pain type, 1: typical angina, 2: atypical angina, 3: non-anginal pain, 4: asymptomatic\n",
            "trestbps:\t\t\tresting blood pressure\n",
            "chol:\t\t\t serum cholestoral in mg/dl\n",
            "fbs:\t\t\tfasting blood sugar > 120 mg/dl\n",
            "restecg:\t\t\tresting electrocardiographic results (values 0,1,2)\n",
            "thalach:\t\t\t maximum heart rate achieved\n",
            "exang:\t\t\texercise induced angina\n",
            "oldpeak:\t\t\toldpeak = ST depression induced by exercise relative to rest\n",
            "slope:\t\t\tthe slope of the peak exercise ST segment\n",
            "ca:\t\t\tnumber of major vessels (0-3) colored by flourosopy\n",
            "thal:\t\t\tthal: 3 = normal; 6 = fixed defect; 7 = reversable defect\n"
          ]
        }
      ],
      "source": [
        "info = [\"age\",\"1: male, 0: female\",\"chest pain type, 1: typical angina, 2: atypical angina, 3: non-anginal pain, 4: asymptomatic\",\"resting blood pressure\",\" serum cholestoral in mg/dl\",\"fasting blood sugar > 120 mg/dl\",\"resting electrocardiographic results (values 0,1,2)\",\" maximum heart rate achieved\",\"exercise induced angina\",\"oldpeak = ST depression induced by exercise relative to rest\",\"the slope of the peak exercise ST segment\",\"number of major vessels (0-3) colored by flourosopy\",\"thal: 3 = normal; 6 = fixed defect; 7 = reversable defect\"]\n",
        "\n",
        "\n",
        "\n",
        "for i in range(len(info)):\n",
        "    print(dataset.columns[i]+\":\\t\\t\\t\"+info[i])"
      ]
    },
    {
      "cell_type": "code",
      "execution_count": null,
      "metadata": {
        "colab": {
          "base_uri": "https://localhost:8080/"
        },
        "id": "d94GDp5HZUjG",
        "outputId": "6912a74c-95fc-4494-a4ee-822e05a285bb"
      },
      "outputs": [
        {
          "data": {
            "text/plain": [
              "count    1025.000000\n",
              "mean        0.513171\n",
              "std         0.500070\n",
              "min         0.000000\n",
              "25%         0.000000\n",
              "50%         1.000000\n",
              "75%         1.000000\n",
              "max         1.000000\n",
              "Name: target, dtype: float64"
            ]
          },
          "execution_count": 9,
          "metadata": {},
          "output_type": "execute_result"
        }
      ],
      "source": [
        "dataset[\"target\"].describe()"
      ]
    },
    {
      "cell_type": "code",
      "execution_count": null,
      "metadata": {
        "colab": {
          "base_uri": "https://localhost:8080/"
        },
        "id": "Vs08VNrlZUjH",
        "outputId": "4261ce4d-74cc-470d-c2a2-e8eeff38bb59"
      },
      "outputs": [
        {
          "data": {
            "text/plain": [
              "array([0, 1])"
            ]
          },
          "execution_count": 10,
          "metadata": {},
          "output_type": "execute_result"
        }
      ],
      "source": [
        "dataset[\"target\"].unique()"
      ]
    },
    {
      "cell_type": "markdown",
      "metadata": {
        "id": "Khz_xN7CZUjH"
      },
      "source": [
        "#### Clearly, this is a classification problem, with the target variable having values '0' and '1'"
      ]
    },
    {
      "cell_type": "code",
      "execution_count": null,
      "metadata": {
        "colab": {
          "base_uri": "https://localhost:8080/"
        },
        "id": "hKDeSaDKZUjH",
        "outputId": "38d45135-9277-4779-f073-2282e42fa292"
      },
      "outputs": [
        {
          "name": "stdout",
          "output_type": "stream",
          "text": [
            "target      1.000000\n",
            "oldpeak     0.438441\n",
            "exang       0.438029\n",
            "cp          0.434854\n",
            "thalach     0.422895\n",
            "ca          0.382085\n",
            "slope       0.345512\n",
            "thal        0.337838\n",
            "sex         0.279501\n",
            "age         0.229324\n",
            "trestbps    0.138772\n",
            "restecg     0.134468\n",
            "chol        0.099966\n",
            "fbs         0.041164\n",
            "Name: target, dtype: float64\n"
          ]
        }
      ],
      "source": [
        "print(dataset.corr()[\"target\"].abs().sort_values(ascending=False))"
      ]
    },
    {
      "cell_type": "markdown",
      "metadata": {
        "id": "AOnIWVenZUjH"
      },
      "source": [
        "## Exploratory Data Analysis (EDA)"
      ]
    },
    {
      "cell_type": "code",
      "execution_count": null,
      "metadata": {
        "colab": {
          "base_uri": "https://localhost:8080/",
          "height": 386
        },
        "id": "RfU2IwQEZUjH",
        "outputId": "dcd76866-3761-4917-d9d6-209e68548011"
      },
      "outputs": [
        {
          "name": "stdout",
          "output_type": "stream",
          "text": [
            "1    526\n",
            "0    499\n",
            "Name: target, dtype: int64\n"
          ]
        },
        {
          "name": "stderr",
          "output_type": "stream",
          "text": [
            "/usr/local/lib/python3.7/dist-packages/seaborn/_decorators.py:43: FutureWarning: Pass the following variable as a keyword arg: x. From version 0.12, the only valid positional argument will be `data`, and passing other arguments without an explicit keyword will result in an error or misinterpretation.\n",
            "  FutureWarning\n"
          ]
        },
        {
          "data": {
            "image/png": "[encoded data removed]",
            "text/plain": [
              "<Figure size 432x288 with 1 Axes>"
            ]
          },
          "metadata": {},
          "output_type": "display_data"
        }
      ],
      "source": [
        "y = dataset[\"target\"]\n",
        "\n",
        "sns.countplot(y)\n",
        "\n",
        "\n",
        "target_temp = dataset.target.value_counts()\n",
        "\n",
        "print(target_temp)"
      ]
    },
    {
      "cell_type": "code",
      "execution_count": null,
      "metadata": {
        "colab": {
          "base_uri": "https://localhost:8080/"
        },
        "id": "Nsi-Hf43ZUjH",
        "outputId": "dd41dfca-df1d-40bf-f69a-c31adc35abd3"
      },
      "outputs": [
        {
          "name": "stdout",
          "output_type": "stream",
          "text": [
            "Percentage of patience without heart problems: 48.68\n",
            "Percentage of patience with heart problems: 51.32\n"
          ]
        }
      ],
      "source": [
        "print(\"Percentage of patience without heart problems: \"+str(round(target_temp[0]*100/1025,2)))\n",
        "print(\"Percentage of patience with heart problems: \"+str(round(target_temp[1]*100/1025,2)))"
      ]
    },
    {
      "cell_type": "markdown",
      "metadata": {
        "id": "7qJHRWkXZUjI"
      },
      "source": [
        "### We'll analyse 'sex', 'cp', 'fbs', 'restecg', 'exang', 'slope', 'ca' and 'thal' features"
      ]
    },
    {
      "cell_type": "markdown",
      "metadata": {
        "id": "SVMhCQL0ZUjI"
      },
      "source": [
        "### Analysing the 'Sex' feature"
      ]
    },
    {
      "cell_type": "code",
      "execution_count": null,
      "metadata": {
        "colab": {
          "base_uri": "https://localhost:8080/"
        },
        "id": "hUe9NlmMZUjI",
        "outputId": "794b0c3b-338b-4b8f-e3e6-617280e9d654"
      },
      "outputs": [
        {
          "data": {
            "text/plain": [
              "array([1, 0])"
            ]
          },
          "execution_count": 14,
          "metadata": {},
          "output_type": "execute_result"
        }
      ],
      "source": [
        "dataset[\"sex\"].unique()"
      ]
    },
    {
      "cell_type": "markdown",
      "metadata": {
        "id": "y20arnT2ZUjI"
      },
      "source": [
        "##### We notice, that as expected, the 'sex' feature has 2 unique features"
      ]
    },
    {
      "cell_type": "code",
      "execution_count": null,
      "metadata": {
        "colab": {
          "base_uri": "https://localhost:8080/",
          "height": 352
        },
        "id": "Zaw9Wr9fZUjI",
        "outputId": "714124a3-26db-4caf-ed02-5b0045d811a6"
      },
      "outputs": [
        {
          "name": "stderr",
          "output_type": "stream",
          "text": [
            "/usr/local/lib/python3.7/dist-packages/seaborn/_decorators.py:43: FutureWarning: Pass the following variables as keyword args: x, y. From version 0.12, the only valid positional argument will be `data`, and passing other arguments without an explicit keyword will result in an error or misinterpretation.\n",
            "  FutureWarning\n"
          ]
        },
        {
          "data": {
            "text/plain": [
              "<matplotlib.axes._subplots.AxesSubplot at 0x7f715a84e190>"
            ]
          },
          "execution_count": 15,
          "metadata": {},
          "output_type": "execute_result"
        },
        {
          "data": {
            "image/png": "[encoded data removed]",
            "text/plain": [
              "<Figure size 432x288 with 1 Axes>"
            ]
          },
          "metadata": {},
          "output_type": "display_data"
        }
      ],
      "source": [
        "sns.barplot(dataset[\"sex\"],y)"
      ]
    },
    {
      "cell_type": "markdown",
      "metadata": {
        "id": "f1IC9iksZUjI"
      },
      "source": [
        "##### We notice, that females are more likely to have heart problems than males"
      ]
    },
    {
      "cell_type": "markdown",
      "metadata": {
        "id": "YJLz564GZUjI"
      },
      "source": [
        "### Analysing the 'Chest Pain Type' feature"
      ]
    },
    {
      "cell_type": "code",
      "execution_count": null,
      "metadata": {
        "colab": {
          "base_uri": "https://localhost:8080/"
        },
        "id": "eChT7lJwZUjI",
        "outputId": "7d7b961a-ed13-4095-9d93-bb2c30c92c20"
      },
      "outputs": [
        {
          "data": {
            "text/plain": [
              "array([0, 1, 2, 3])"
            ]
          },
          "execution_count": 16,
          "metadata": {},
          "output_type": "execute_result"
        }
      ],
      "source": [
        "dataset[\"cp\"].unique()"
      ]
    },
    {
      "cell_type": "markdown",
      "metadata": {
        "id": "dYSZmG3DZUjI"
      },
      "source": [
        "##### As expected, the CP feature has values from 0 to 3"
      ]
    },
    {
      "cell_type": "code",
      "execution_count": null,
      "metadata": {
        "colab": {
          "base_uri": "https://localhost:8080/"
        },
        "id": "IQI1m7EGZUjI",
        "outputId": "3d9fc7bb-ac71-4c54-a9cb-e767a63030e8"
      },
      "outputs": [
        {
          "name": "stderr",
          "output_type": "stream",
          "text": [
            "/usr/local/lib/python3.7/dist-packages/seaborn/_decorators.py:43: FutureWarning: Pass the following variables as keyword args: x, y. From version 0.12, the only valid positional argument will be `data`, and passing other arguments without an explicit keyword will result in an error or misinterpretation.\n",
            "  FutureWarning\n"
          ]
        },
        {
          "data": {
            "text/plain": [
              "<matplotlib.axes._subplots.AxesSubplot at 0x7f715a379050>"
            ]
          },
          "execution_count": 17,
          "metadata": {},
          "output_type": "execute_result"
        },
        {
          "data": {
            "image/png": "[encoded data removed]",
            "text/plain": [
              "<Figure size 432x288 with 1 Axes>"
            ]
          },
          "metadata": {},
          "output_type": "display_data"
        }
      ],
      "source": [
        "sns.barplot(dataset[\"cp\"],y)"
      ]
    },
    {
      "cell_type": "markdown",
      "metadata": {
        "id": "NqJnNjMHZUjI"
      },
      "source": [
        "##### We notice, that chest pain of '0', i.e. the ones with typical angina are much less likely to have heart problems"
      ]
    },
    {
      "cell_type": "markdown",
      "metadata": {
        "id": "x2bZ7Uz3ZUjJ"
      },
      "source": [
        "### Analysing the FBS (fasting blood Sugar) feature"
      ]
    },
    {
      "cell_type": "code",
      "execution_count": null,
      "metadata": {
        "colab": {
          "base_uri": "https://localhost:8080/"
        },
        "id": "GoYXizUTZUjJ",
        "outputId": "9a4b11eb-e74d-4ae4-df02-1b89ccde1a6d"
      },
      "outputs": [
        {
          "data": {
            "text/plain": [
              "count    1025.000000\n",
              "mean        0.149268\n",
              "std         0.356527\n",
              "min         0.000000\n",
              "25%         0.000000\n",
              "50%         0.000000\n",
              "75%         0.000000\n",
              "max         1.000000\n",
              "Name: fbs, dtype: float64"
            ]
          },
          "execution_count": 18,
          "metadata": {},
          "output_type": "execute_result"
        }
      ],
      "source": [
        "dataset[\"fbs\"].describe()"
      ]
    },
    {
      "cell_type": "code",
      "execution_count": null,
      "metadata": {
        "colab": {
          "base_uri": "https://localhost:8080/"
        },
        "id": "gK9A7z1-ZUjJ",
        "outputId": "f308b70b-af14-4ffe-d95a-f7d95a35b4c8"
      },
      "outputs": [
        {
          "data": {
            "text/plain": [
              "array([0, 1])"
            ]
          },
          "execution_count": 19,
          "metadata": {},
          "output_type": "execute_result"
        }
      ],
      "source": [
        "dataset[\"fbs\"].unique()"
      ]
    },
    {
      "cell_type": "code",
      "execution_count": null,
      "metadata": {
        "colab": {
          "base_uri": "https://localhost:8080/"
        },
        "id": "hTHFFEX1ZUjJ",
        "outputId": "405d3659-dda3-4d9e-de0a-c1eb42affa22"
      },
      "outputs": [
        {
          "name": "stderr",
          "output_type": "stream",
          "text": [
            "/usr/local/lib/python3.7/dist-packages/seaborn/_decorators.py:43: FutureWarning: Pass the following variables as keyword args: x, y. From version 0.12, the only valid positional argument will be `data`, and passing other arguments without an explicit keyword will result in an error or misinterpretation.\n",
            "  FutureWarning\n"
          ]
        },
        {
          "data": {
            "text/plain": [
              "<matplotlib.axes._subplots.AxesSubplot at 0x7f715a2fc250>"
            ]
          },
          "execution_count": 20,
          "metadata": {},
          "output_type": "execute_result"
        },
        {
          "data": {
            "image/png": "[encoded data removed]",
            "text/plain": [
              "<Figure size 432x288 with 1 Axes>"
            ]
          },
          "metadata": {},
          "output_type": "display_data"
        }
      ],
      "source": [
        "sns.barplot(dataset[\"fbs\"],y)"
      ]
    },
    {
      "cell_type": "markdown",
      "metadata": {
        "id": "XGmCr-UpZUjJ"
      },
      "source": [
        "##### Nothing extraordinary here"
      ]
    },
    {
      "cell_type": "markdown",
      "metadata": {
        "id": "AOd-F13fZUjJ"
      },
      "source": [
        "### Analysing the restecg feature"
      ]
    },
    {
      "cell_type": "code",
      "execution_count": null,
      "metadata": {
        "colab": {
          "base_uri": "https://localhost:8080/"
        },
        "id": "Nk4MUq3EZUjJ",
        "outputId": "4c1c851c-bef0-4433-a5b6-3505c3e93bca"
      },
      "outputs": [
        {
          "data": {
            "text/plain": [
              "array([1, 0, 2])"
            ]
          },
          "execution_count": 21,
          "metadata": {},
          "output_type": "execute_result"
        }
      ],
      "source": [
        "dataset[\"restecg\"].unique()"
      ]
    },
    {
      "cell_type": "code",
      "execution_count": null,
      "metadata": {
        "colab": {
          "base_uri": "https://localhost:8080/"
        },
        "id": "1otM-AaKZUjJ",
        "outputId": "244636dd-b26d-45db-d137-fe726ce0f001"
      },
      "outputs": [
        {
          "name": "stderr",
          "output_type": "stream",
          "text": [
            "/usr/local/lib/python3.7/dist-packages/seaborn/_decorators.py:43: FutureWarning: Pass the following variables as keyword args: x, y. From version 0.12, the only valid positional argument will be `data`, and passing other arguments without an explicit keyword will result in an error or misinterpretation.\n",
            "  FutureWarning\n"
          ]
        },
        {
          "data": {
            "text/plain": [
              "<matplotlib.axes._subplots.AxesSubplot at 0x7f715a258e50>"
            ]
          },
          "execution_count": 22,
          "metadata": {},
          "output_type": "execute_result"
        },
        {
          "data": {
            "image/png": "[encoded data removed]",
            "text/plain": [
              "<Figure size 432x288 with 1 Axes>"
            ]
          },
          "metadata": {},
          "output_type": "display_data"
        }
      ],
      "source": [
        "sns.barplot(dataset[\"restecg\"],y)"
      ]
    },
    {
      "cell_type": "markdown",
      "metadata": {
        "id": "5y2wUgQHZUjJ"
      },
      "source": [
        "##### We realize that people with restecg '1' and '0' are much more likely to have a heart disease than with restecg '2'"
      ]
    },
    {
      "cell_type": "markdown",
      "metadata": {
        "id": "3-1OT9AeZUjJ"
      },
      "source": [
        "### Analysing the 'exang' feature"
      ]
    },
    {
      "cell_type": "code",
      "execution_count": null,
      "metadata": {
        "colab": {
          "base_uri": "https://localhost:8080/"
        },
        "id": "czsf1d71ZUjJ",
        "outputId": "4751f15a-538b-47b4-8448-a615101053fb"
      },
      "outputs": [
        {
          "data": {
            "text/plain": [
              "array([0, 1])"
            ]
          },
          "execution_count": 23,
          "metadata": {},
          "output_type": "execute_result"
        }
      ],
      "source": [
        "dataset[\"exang\"].unique()"
      ]
    },
    {
      "cell_type": "code",
      "execution_count": null,
      "metadata": {
        "colab": {
          "base_uri": "https://localhost:8080/"
        },
        "id": "w9pBdEIwZUjJ",
        "outputId": "c26af47d-13ac-465b-b511-838a8b1f269f"
      },
      "outputs": [
        {
          "name": "stderr",
          "output_type": "stream",
          "text": [
            "/usr/local/lib/python3.7/dist-packages/seaborn/_decorators.py:43: FutureWarning: Pass the following variables as keyword args: x, y. From version 0.12, the only valid positional argument will be `data`, and passing other arguments without an explicit keyword will result in an error or misinterpretation.\n",
            "  FutureWarning\n"
          ]
        },
        {
          "data": {
            "text/plain": [
              "<matplotlib.axes._subplots.AxesSubplot at 0x7f715a94a850>"
            ]
          },
          "execution_count": 24,
          "metadata": {},
          "output_type": "execute_result"
        },
        {
          "data": {
            "image/png": "[encoded data removed]",
            "text/plain": [
              "<Figure size 432x288 with 1 Axes>"
            ]
          },
          "metadata": {},
          "output_type": "display_data"
        }
      ],
      "source": [
        "sns.barplot(dataset[\"exang\"],y)"
      ]
    },
    {
      "cell_type": "markdown",
      "metadata": {
        "id": "S7hY4VCSZUjK"
      },
      "source": [
        "##### People with exang=1 i.e. Exercise induced angina are much less likely to have heart problems"
      ]
    },
    {
      "cell_type": "markdown",
      "metadata": {
        "id": "QYTPGEPuZUjK"
      },
      "source": [
        "### Analysing the Slope feature"
      ]
    },
    {
      "cell_type": "code",
      "execution_count": null,
      "metadata": {
        "colab": {
          "base_uri": "https://localhost:8080/"
        },
        "id": "y7ihqUukZUjK",
        "outputId": "c8a4235c-5e94-4387-a8e6-717ef06d0e22"
      },
      "outputs": [
        {
          "data": {
            "text/plain": [
              "array([2, 0, 1])"
            ]
          },
          "execution_count": 25,
          "metadata": {},
          "output_type": "execute_result"
        }
      ],
      "source": [
        "dataset[\"slope\"].unique()"
      ]
    },
    {
      "cell_type": "code",
      "execution_count": null,
      "metadata": {
        "colab": {
          "base_uri": "https://localhost:8080/"
        },
        "id": "rTq4lKS5ZUjK",
        "outputId": "618e922e-e439-46ba-8374-c148b22d408d"
      },
      "outputs": [
        {
          "name": "stderr",
          "output_type": "stream",
          "text": [
            "/usr/local/lib/python3.7/dist-packages/seaborn/_decorators.py:43: FutureWarning: Pass the following variables as keyword args: x, y. From version 0.12, the only valid positional argument will be `data`, and passing other arguments without an explicit keyword will result in an error or misinterpretation.\n",
            "  FutureWarning\n"
          ]
        },
        {
          "data": {
            "text/plain": [
              "<matplotlib.axes._subplots.AxesSubplot at 0x7f715a1c3b10>"
            ]
          },
          "execution_count": 26,
          "metadata": {},
          "output_type": "execute_result"
        },
        {
          "data": {
            "image/png": "[encoded data removed]",
            "text/plain": [
              "<Figure size 432x288 with 1 Axes>"
            ]
          },
          "metadata": {},
          "output_type": "display_data"
        }
      ],
      "source": [
        "sns.barplot(dataset[\"slope\"],y)"
      ]
    },
    {
      "cell_type": "markdown",
      "metadata": {
        "id": "BiZrIwOhZUjK"
      },
      "source": [
        "##### We observe, that Slope '2' causes heart pain much more than Slope '0' and '1'"
      ]
    },
    {
      "cell_type": "markdown",
      "metadata": {
        "id": "HRb6yf3FZUjK"
      },
      "source": [
        "### Analysing the 'ca' feature"
      ]
    },
    {
      "cell_type": "code",
      "execution_count": null,
      "metadata": {
        "colab": {
          "base_uri": "https://localhost:8080/"
        },
        "id": "Y6Yi_3YqZUjK",
        "outputId": "78f4aa44-28b8-4bb0-b877-e6acad6a15c4"
      },
      "outputs": [
        {
          "data": {
            "text/plain": [
              "array([2, 0, 1, 3, 4])"
            ]
          },
          "execution_count": 27,
          "metadata": {},
          "output_type": "execute_result"
        }
      ],
      "source": [
        "dataset[\"ca\"].unique()"
      ]
    },
    {
      "cell_type": "code",
      "execution_count": null,
      "metadata": {
        "colab": {
          "base_uri": "https://localhost:8080/"
        },
        "id": "EJr2GEozZUjK",
        "outputId": "1590e3b5-1bef-49b8-ee88-be50e5066907"
      },
      "outputs": [
        {
          "name": "stderr",
          "output_type": "stream",
          "text": [
            "/usr/local/lib/python3.7/dist-packages/seaborn/_decorators.py:43: FutureWarning: Pass the following variable as a keyword arg: x. From version 0.12, the only valid positional argument will be `data`, and passing other arguments without an explicit keyword will result in an error or misinterpretation.\n",
            "  FutureWarning\n"
          ]
        },
        {
          "data": {
            "text/plain": [
              "<matplotlib.axes._subplots.AxesSubplot at 0x7f715a127dd0>"
            ]
          },
          "execution_count": 28,
          "metadata": {},
          "output_type": "execute_result"
        },
        {
          "data": {
            "image/png": "[encoded data removed]",
            "text/plain": [
              "<Figure size 432x288 with 1 Axes>"
            ]
          },
          "metadata": {},
          "output_type": "display_data"
        }
      ],
      "source": [
        "sns.countplot(dataset[\"ca\"])"
      ]
    },
    {
      "cell_type": "code",
      "execution_count": null,
      "metadata": {
        "colab": {
          "base_uri": "https://localhost:8080/"
        },
        "id": "3vb5H0OsZUjK",
        "outputId": "f23f27a5-b75d-446e-94a9-b6e3ec3ea9d9"
      },
      "outputs": [
        {
          "name": "stderr",
          "output_type": "stream",
          "text": [
            "/usr/local/lib/python3.7/dist-packages/seaborn/_decorators.py:43: FutureWarning: Pass the following variables as keyword args: x, y. From version 0.12, the only valid positional argument will be `data`, and passing other arguments without an explicit keyword will result in an error or misinterpretation.\n",
            "  FutureWarning\n"
          ]
        },
        {
          "data": {
            "text/plain": [
              "<matplotlib.axes._subplots.AxesSubplot at 0x7f715a12fe50>"
            ]
          },
          "execution_count": 29,
          "metadata": {},
          "output_type": "execute_result"
        },
        {
          "data": {
            "image/png": "[encoded data removed]",
            "text/plain": [
              "<Figure size 432x288 with 1 Axes>"
            ]
          },
          "metadata": {},
          "output_type": "display_data"
        }
      ],
      "source": [
        "sns.barplot(dataset[\"ca\"],y)"
      ]
    },
    {
      "cell_type": "markdown",
      "metadata": {
        "id": "52ra-L2pZUjK"
      },
      "source": [
        "##### ca=4 has astonishingly large number of heart patients"
      ]
    },
    {
      "cell_type": "code",
      "execution_count": null,
      "metadata": {
        "colab": {
          "base_uri": "https://localhost:8080/"
        },
        "id": "gqjBejCNZUjK",
        "outputId": "053d8802-231e-4b5d-9370-7944d346e772"
      },
      "outputs": [
        {
          "data": {
            "text/plain": [
              "array([3, 2, 1, 0])"
            ]
          },
          "execution_count": 30,
          "metadata": {},
          "output_type": "execute_result"
        }
      ],
      "source": [
        "dataset[\"thal\"].unique()"
      ]
    },
    {
      "cell_type": "code",
      "execution_count": null,
      "metadata": {
        "colab": {
          "base_uri": "https://localhost:8080/"
        },
        "id": "7KyVlIqDZUjK",
        "outputId": "c6eabb19-970a-4dd7-eb37-fd064068ac89"
      },
      "outputs": [
        {
          "name": "stderr",
          "output_type": "stream",
          "text": [
            "/usr/local/lib/python3.7/dist-packages/seaborn/_decorators.py:43: FutureWarning: Pass the following variables as keyword args: x, y. From version 0.12, the only valid positional argument will be `data`, and passing other arguments without an explicit keyword will result in an error or misinterpretation.\n",
            "  FutureWarning\n"
          ]
        },
        {
          "data": {
            "text/plain": [
              "<matplotlib.axes._subplots.AxesSubplot at 0x7f715a022990>"
            ]
          },
          "execution_count": 31,
          "metadata": {},
          "output_type": "execute_result"
        },
        {
          "data": {
            "image/png": "[encoded data removed]",
            "text/plain": [
              "<Figure size 432x288 with 1 Axes>"
            ]
          },
          "metadata": {},
          "output_type": "display_data"
        }
      ],
      "source": [
        "sns.barplot(dataset[\"thal\"],y)"
      ]
    },
    {
      "cell_type": "code",
      "execution_count": null,
      "metadata": {
        "colab": {
          "base_uri": "https://localhost:8080/"
        },
        "id": "c7HRuUI5ZUjK",
        "outputId": "ca602698-d6cd-4a48-fb53-34ec994d918b"
      },
      "outputs": [
        {
          "name": "stderr",
          "output_type": "stream",
          "text": [
            "/usr/local/lib/python3.7/dist-packages/seaborn/distributions.py:2619: FutureWarning: `distplot` is a deprecated function and will be removed in a future version. Please adapt your code to use either `displot` (a figure-level function with similar flexibility) or `histplot` (an axes-level function for histograms).\n",
            "  warnings.warn(msg, FutureWarning)\n"
          ]
        },
        {
          "data": {
            "text/plain": [
              "<matplotlib.axes._subplots.AxesSubplot at 0x7f7159f5e950>"
            ]
          },
          "execution_count": 32,
          "metadata": {},
          "output_type": "execute_result"
        },
        {
          "data": {
            "image/png": "[encoded data removed]",
            "text/plain": [
              "<Figure size 432x288 with 1 Axes>"
            ]
          },
          "metadata": {},
          "output_type": "display_data"
        }
      ],
      "source": [
        "sns.distplot(dataset[\"thal\"])"
      ]
    },
    {
      "cell_type": "markdown",
      "metadata": {
        "id": "Q1ij46u1ZUjL"
      },
      "source": [
        "## IV. Train Test split"
      ]
    },
    {
      "cell_type": "code",
      "execution_count": null,
      "metadata": {
        "id": "zvNWul4ZZUjL"
      },
      "outputs": [],
      "source": [
        "from sklearn.model_selection import train_test_split\n",
        "\n",
        "predictors = dataset.drop(\"target\",axis=1)\n",
        "target = dataset[\"target\"]\n",
        "\n",
        "X_train,X_test,Y_train,Y_test = train_test_split(predictors,target,test_size=0.20,random_state=0)"
      ]
    },
    {
      "cell_type": "code",
      "execution_count": null,
      "metadata": {
        "colab": {
          "base_uri": "https://localhost:8080/"
        },
        "id": "_VBB3nkxZUjL",
        "outputId": "37c30b2e-1282-4609-d20d-fed5268bb42f"
      },
      "outputs": [
        {
          "data": {
            "text/plain": [
              "(820, 13)"
            ]
          },
          "execution_count": 34,
          "metadata": {},
          "output_type": "execute_result"
        }
      ],
      "source": [
        "X_train.shape"
      ]
    },
    {
      "cell_type": "code",
      "execution_count": null,
      "metadata": {
        "colab": {
          "base_uri": "https://localhost:8080/"
        },
        "id": "3SnZehzRZUjL",
        "outputId": "b0b6f566-25dc-4edc-9500-39db05215ba1"
      },
      "outputs": [
        {
          "data": {
            "text/plain": [
              "(205, 13)"
            ]
          },
          "execution_count": 35,
          "metadata": {},
          "output_type": "execute_result"
        }
      ],
      "source": [
        "X_test.shape"
      ]
    },
    {
      "cell_type": "code",
      "execution_count": null,
      "metadata": {
        "colab": {
          "base_uri": "https://localhost:8080/"
        },
        "id": "QqAMkcFfZUjL",
        "outputId": "65ccbbcd-3b6e-40b9-e7ea-43cc651ec975"
      },
      "outputs": [
        {
          "data": {
            "text/plain": [
              "(820,)"
            ]
          },
          "execution_count": 36,
          "metadata": {},
          "output_type": "execute_result"
        }
      ],
      "source": [
        "Y_train.shape"
      ]
    },
    {
      "cell_type": "code",
      "execution_count": null,
      "metadata": {
        "colab": {
          "base_uri": "https://localhost:8080/"
        },
        "id": "4RjhFvoSZUjL",
        "outputId": "8b91b2b1-53f5-4243-a34f-dfd64a4389f7"
      },
      "outputs": [
        {
          "data": {
            "text/plain": [
              "(205,)"
            ]
          },
          "execution_count": 37,
          "metadata": {},
          "output_type": "execute_result"
        }
      ],
      "source": [
        "Y_test.shape"
      ]
    },
    {
      "cell_type": "markdown",
      "metadata": {
        "id": "6b8YQ36iZUjL"
      },
      "source": [
        "## V. Model Fitting"
      ]
    },
    {
      "cell_type": "code",
      "execution_count": null,
      "metadata": {
        "id": "QmtupGHPZUjL"
      },
      "outputs": [],
      "source": [
        "from sklearn.metrics import accuracy_score"
      ]
    },
    {
      "cell_type": "markdown",
      "metadata": {
        "id": "QGYdsrcGWXR9"
      },
      "source": [
        "### Logistic Regression"
      ]
    },
    {
      "cell_type": "code",
      "execution_count": null,
      "metadata": {
        "colab": {
          "base_uri": "https://localhost:8080/"
        },
        "id": "ydJQ-e6vZUjL",
        "outputId": "3aaf2ac8-d47d-40f5-dd4b-2e705b33fc59"
      },
      "outputs": [
        {
          "name": "stderr",
          "output_type": "stream",
          "text": [
            "/usr/local/lib/python3.7/dist-packages/sklearn/linear_model/_logistic.py:818: ConvergenceWarning: lbfgs failed to converge (status=1):\n",
            "STOP: TOTAL NO. of ITERATIONS REACHED LIMIT.\n",
            "\n",
            "Increase the number of iterations (max_iter) or scale the data as shown in:\n",
            "    https://scikit-learn.org/stable/modules/preprocessing.html\n",
            "Please also refer to the documentation for alternative solver options:\n",
            "    https://scikit-learn.org/stable/modules/linear_model.html#logistic-regression\n",
            "  extra_warning_msg=_LOGISTIC_SOLVER_CONVERGENCE_MSG,\n"
          ]
        }
      ],
      "source": [
        "from sklearn.linear_model import LogisticRegression\n",
        "\n",
        "lr = LogisticRegression()\n",
        "\n",
        "lr.fit(X_train,Y_train)\n",
        "\n",
        "Y_pred_lr = lr.predict(X_test)"
      ]
    },
    {
      "cell_type": "code",
      "execution_count": null,
      "metadata": {
        "colab": {
          "base_uri": "https://localhost:8080/"
        },
        "id": "X9-qHJe6ZUjL",
        "outputId": "b9a579ca-9dcf-4e37-ff05-adc6eabce034"
      },
      "outputs": [
        {
          "data": {
            "text/plain": [
              "(205,)"
            ]
          },
          "execution_count": 40,
          "metadata": {},
          "output_type": "execute_result"
        }
      ],
      "source": [
        "Y_pred_lr.shape"
      ]
    },
    {
      "cell_type": "code",
      "execution_count": null,
      "metadata": {
        "colab": {
          "base_uri": "https://localhost:8080/"
        },
        "id": "3kzt5Yw_ZUjL",
        "outputId": "587a58a2-7704-4b6c-9223-17129ffa36b1"
      },
      "outputs": [
        {
          "name": "stdout",
          "output_type": "stream",
          "text": [
            "The accuracy score achieved using Logistic Regression is: 86.34 %\n"
          ]
        }
      ],
      "source": [
        "score_lr = round(accuracy_score(Y_pred_lr,Y_test)*100,2)\n",
        "\n",
        "print(\"The accuracy score achieved using Logistic Regression is: \"+str(score_lr)+\" %\")"
      ]
    },
    {
      "cell_type": "code",
      "execution_count": null,
      "metadata": {
        "colab": {
          "base_uri": "https://localhost:8080/"
        },
        "id": "DcZSoqBYsH4E",
        "outputId": "19f7b2c7-095b-44fd-ab8f-99cef76772a5"
      },
      "outputs": [
        {
          "name": "stdout",
          "output_type": "stream",
          "text": [
            "Evaluation metrics for Logistic Regression model are:\n",
            "\n",
            "F1 score:  0.8616734143049933\n",
            "Recall:  0.8715564738292011\n",
            "Precision:  0.8601468624833111\n",
            "Accuracy:  0.8634146341463415\n",
            "FBeta Square:  0.8597851708989606\n",
            "\n"
          ]
        }
      ],
      "source": [
        "print(\"Evaluation metrics for Logistic Regression model are:\")\n",
        "print()\n",
        "\n",
        "print('F1 score: ',f1_score(Y_pred_lr,Y_test, average='macro') )\n",
        "print('Recall: ',recall_score(Y_pred_lr,Y_test, average='macro') )\n",
        "print('Precision: ',precision_score(Y_pred_lr,Y_test, average='macro') )\n",
        "print('Accuracy: ',accuracy_score(Y_pred_lr,Y_test) )\n",
        "print('FBeta Square: ',fbeta_score(Y_pred_lr,Y_test,average='macro',beta=0.5))\n",
        "print()"
      ]
    },
    {
      "cell_type": "markdown",
      "metadata": {
        "id": "JDCxeHU_ZUjL"
      },
      "source": [
        "### Naive Bayes"
      ]
    },
    {
      "cell_type": "code",
      "execution_count": null,
      "metadata": {
        "id": "xaisGciMZUjL"
      },
      "outputs": [],
      "source": [
        "from sklearn.naive_bayes import GaussianNB\n",
        "\n",
        "nb = GaussianNB()\n",
        "\n",
        "nb.fit(X_train,Y_train)\n",
        "\n",
        "Y_pred_nb = nb.predict(X_test)"
      ]
    },
    {
      "cell_type": "code",
      "execution_count": null,
      "metadata": {
        "colab": {
          "base_uri": "https://localhost:8080/"
        },
        "id": "HqVL-VwrZUjL",
        "outputId": "894531a6-15c8-472d-824a-96845283d5a0"
      },
      "outputs": [
        {
          "data": {
            "text/plain": [
              "(205,)"
            ]
          },
          "execution_count": 44,
          "metadata": {},
          "output_type": "execute_result"
        }
      ],
      "source": [
        "Y_pred_nb.shape"
      ]
    },
    {
      "cell_type": "code",
      "execution_count": null,
      "metadata": {
        "colab": {
          "base_uri": "https://localhost:8080/"
        },
        "id": "ncGZYu9wZUjM",
        "outputId": "738ee223-a21b-4bdf-be36-8a01ed3fe2be"
      },
      "outputs": [
        {
          "name": "stdout",
          "output_type": "stream",
          "text": [
            "The accuracy score achieved using Naive Bayes is: 85.37 %\n"
          ]
        }
      ],
      "source": [
        "score_nb = round(accuracy_score(Y_pred_nb,Y_test)*100,2)\n",
        "\n",
        "print(\"The accuracy score achieved using Naive Bayes is: \"+str(score_nb)+\" %\")"
      ]
    },
    {
      "cell_type": "code",
      "execution_count": null,
      "metadata": {
        "colab": {
          "base_uri": "https://localhost:8080/"
        },
        "id": "_s4ZTk5CsKBv",
        "outputId": "12cdbaf8-24f9-45d5-a60a-f31d80e32cd1"
      },
      "outputs": [
        {
          "name": "stdout",
          "output_type": "stream",
          "text": [
            "Evaluation metrics for Naive Bayes model are:\n",
            "\n",
            "F1 score:  0.8526451983898792\n",
            "Recall:  0.856280193236715\n",
            "Precision:  0.8516593553309174\n",
            "Accuracy:  0.8536585365853658\n",
            "FBeta Square:  0.8517399876206415\n",
            "\n"
          ]
        }
      ],
      "source": [
        "print(\"Evaluation metrics for Naive Bayes model are:\")\n",
        "print()\n",
        "\n",
        "print('F1 score: ',f1_score(Y_pred_nb,Y_test, average='macro') )\n",
        "print('Recall: ',recall_score(Y_pred_nb,Y_test, average='macro') )\n",
        "print('Precision: ',precision_score(Y_pred_nb,Y_test, average='macro') )\n",
        "print('Accuracy: ',accuracy_score(Y_pred_nb,Y_test) )\n",
        "print('FBeta Square: ',fbeta_score(Y_pred_nb,Y_test,average='macro',beta=0.5))\n",
        "print()"
      ]
    },
    {
      "cell_type": "markdown",
      "metadata": {
        "id": "10CSD5weZUjM"
      },
      "source": [
        "### SVM"
      ]
    },
    {
      "cell_type": "code",
      "execution_count": null,
      "metadata": {
        "id": "SY8CGhj0ZUjM"
      },
      "outputs": [],
      "source": [
        "from sklearn import svm\n",
        "\n",
        "sv = svm.SVC(kernel='linear')\n",
        "\n",
        "sv.fit(X_train, Y_train)\n",
        "\n",
        "Y_pred_svm = sv.predict(X_test)"
      ]
    },
    {
      "cell_type": "code",
      "execution_count": null,
      "metadata": {
        "colab": {
          "base_uri": "https://localhost:8080/"
        },
        "id": "QqliJlhPZUjM",
        "outputId": "0e827d9f-63d4-4de1-e130-f4031e1da890"
      },
      "outputs": [
        {
          "data": {
            "text/plain": [
              "(205,)"
            ]
          },
          "execution_count": 48,
          "metadata": {},
          "output_type": "execute_result"
        }
      ],
      "source": [
        "Y_pred_svm.shape"
      ]
    },
    {
      "cell_type": "code",
      "execution_count": null,
      "metadata": {
        "colab": {
          "base_uri": "https://localhost:8080/"
        },
        "id": "dPRpeKlNZUjM",
        "outputId": "c0993b47-ee78-4886-e0aa-bd8f1772b807"
      },
      "outputs": [
        {
          "name": "stdout",
          "output_type": "stream",
          "text": [
            "The accuracy score achieved using Linear SVM is: 83.9 %\n"
          ]
        }
      ],
      "source": [
        "score_svm = round(accuracy_score(Y_pred_svm,Y_test)*100,2)\n",
        "\n",
        "print(\"The accuracy score achieved using Linear SVM is: \"+str(score_svm)+\" %\")"
      ]
    },
    {
      "cell_type": "code",
      "execution_count": null,
      "metadata": {
        "colab": {
          "base_uri": "https://localhost:8080/"
        },
        "id": "XzzI1kTKsLPQ",
        "outputId": "310aa240-c765-4f45-e3bb-9985826205ed"
      },
      "outputs": [
        {
          "name": "stdout",
          "output_type": "stream",
          "text": [
            "Evaluation metrics for Linear SVM model are:\n",
            "\n",
            "F1 score:  0.8367873772587999\n",
            "Recall:  0.8474224767924156\n",
            "Precision:  0.8354949456418082\n",
            "Accuracy:  0.8390243902439024\n",
            "FBeta Square:  0.8349282296650717\n",
            "\n"
          ]
        }
      ],
      "source": [
        "print(\"Evaluation metrics for Linear SVM model are:\")\n",
        "print()\n",
        "print('F1 score: ',f1_score(Y_pred_svm,Y_test, average='macro') )\n",
        "print('Recall: ',recall_score(Y_pred_svm,Y_test, average='macro') )\n",
        "print('Precision: ',precision_score(Y_pred_svm,Y_test, average='macro') )\n",
        "print('Accuracy: ',accuracy_score(Y_pred_svm,Y_test) )\n",
        "print('FBeta Square: ',fbeta_score(Y_pred_svm,Y_test,average='macro',beta=0.5))\n",
        "print()\n"
      ]
    },
    {
      "cell_type": "markdown",
      "metadata": {
        "id": "mNAKnfV_ZUjM"
      },
      "source": [
        "### K Nearest Neighbors"
      ]
    },
    {
      "cell_type": "code",
      "execution_count": null,
      "metadata": {
        "id": "LcpiLDVPZUjM"
      },
      "outputs": [],
      "source": [
        "from sklearn.neighbors import KNeighborsClassifier\n",
        "\n",
        "knn = KNeighborsClassifier(n_neighbors=7)\n",
        "knn.fit(X_train,Y_train)\n",
        "Y_pred_knn=knn.predict(X_test)"
      ]
    },
    {
      "cell_type": "code",
      "execution_count": null,
      "metadata": {
        "colab": {
          "base_uri": "https://localhost:8080/"
        },
        "id": "opB6PXM2ZUjM",
        "outputId": "47a4530f-d532-463a-a3e8-3fd6901d9e97"
      },
      "outputs": [
        {
          "data": {
            "text/plain": [
              "(205,)"
            ]
          },
          "execution_count": 52,
          "metadata": {},
          "output_type": "execute_result"
        }
      ],
      "source": [
        "Y_pred_knn.shape"
      ]
    },
    {
      "cell_type": "code",
      "execution_count": null,
      "metadata": {
        "colab": {
          "base_uri": "https://localhost:8080/"
        },
        "id": "TtbvK_p2ZUjM",
        "outputId": "ba322b28-631f-4bb6-a4dc-a58736a14353"
      },
      "outputs": [
        {
          "name": "stdout",
          "output_type": "stream",
          "text": [
            "The accuracy score achieved using KNN is: 72.2 %\n"
          ]
        }
      ],
      "source": [
        "score_knn = round(accuracy_score(Y_pred_knn,Y_test)*100,2)\n",
        "\n",
        "print(\"The accuracy score achieved using KNN is: \"+str(score_knn)+\" %\")"
      ]
    },
    {
      "cell_type": "code",
      "execution_count": null,
      "metadata": {
        "colab": {
          "base_uri": "https://localhost:8080/"
        },
        "id": "EIQYbHA0sMvl",
        "outputId": "c9329cc9-8814-4db3-d54c-7a3a7d458ea1"
      },
      "outputs": [
        {
          "name": "stdout",
          "output_type": "stream",
          "text": [
            "Evaluation metrics for KNN model are:\n",
            "\n",
            "F1 score:  0.7215271323371701\n",
            "Recall:  0.7214598818372403\n",
            "Precision:  0.7216288384512684\n",
            "Accuracy:  0.7219512195121951\n",
            "FBeta Square:  0.7215840179409141\n",
            "\n"
          ]
        }
      ],
      "source": [
        "print(\"Evaluation metrics for KNN model are:\")\n",
        "print()\n",
        "\n",
        "print('F1 score: ',f1_score(Y_pred_knn,Y_test, average='macro') )\n",
        "print('Recall: ',recall_score(Y_pred_knn,Y_test, average='macro') )\n",
        "print('Precision: ',precision_score(Y_pred_knn,Y_test, average='macro') )\n",
        "print('Accuracy: ',accuracy_score(Y_pred_knn,Y_test) )\n",
        "print('FBeta Square: ',fbeta_score(Y_pred_knn,Y_test,average='macro',beta=0.5))\n",
        "print()"
      ]
    },
    {
      "cell_type": "markdown",
      "metadata": {
        "id": "jdKOMim0w4Vz"
      },
      "source": [
        "### Neural Networks"
      ]
    },
    {
      "cell_type": "code",
      "execution_count": null,
      "metadata": {
        "colab": {
          "background_save": true,
          "base_uri": "https://localhost:8080/"
        },
        "id": "oWWPED-6w7XS",
        "outputId": "ae7fa31e-af1f-439a-fcc1-e2b3e26426bd"
      },
      "outputs": [
        {
          "name": "stdout",
          "output_type": "stream",
          "text": [
            "Epoch 1/300\n",
            "26/26 [==============================] - 1s 2ms/step - loss: 40.5447 - accuracy: 0.5110\n",
            "Epoch 2/300\n",
            "26/26 [==============================] - 0s 3ms/step - loss: 21.2837 - accuracy: 0.5110\n",
            "Epoch 3/300\n",
            "26/26 [==============================] - 0s 2ms/step - loss: 6.3025 - accuracy: 0.4915\n",
            "Epoch 4/300\n",
            "26/26 [==============================] - 0s 2ms/step - loss: 2.9842 - accuracy: 0.4695\n",
            "Epoch 5/300\n",
            "26/26 [==============================] - 0s 3ms/step - loss: 2.2175 - accuracy: 0.5476\n",
            "Epoch 6/300\n",
            "26/26 [==============================] - 0s 2ms/step - loss: 1.5769 - accuracy: 0.5646\n",
            "Epoch 7/300\n",
            "26/26 [==============================] - 0s 2ms/step - loss: 1.2847 - accuracy: 0.5671\n",
            "Epoch 8/300\n",
            "26/26 [==============================] - 0s 3ms/step - loss: 1.0983 - accuracy: 0.5817\n",
            "Epoch 9/300\n",
            "26/26 [==============================] - 0s 2ms/step - loss: 0.9908 - accuracy: 0.5805\n",
            "Epoch 10/300\n",
            "26/26 [==============================] - 0s 2ms/step - loss: 0.9044 - accuracy: 0.6110\n",
            "Epoch 11/300\n",
            "26/26 [==============================] - 0s 2ms/step - loss: 0.8217 - accuracy: 0.6256\n",
            "Epoch 12/300\n",
            "26/26 [==============================] - 0s 2ms/step - loss: 0.7597 - accuracy: 0.6354\n",
            "Epoch 13/300\n",
            "26/26 [==============================] - 0s 2ms/step - loss: 0.7073 - accuracy: 0.6622\n",
            "Epoch 14/300\n",
            "26/26 [==============================] - 0s 3ms/step - loss: 0.6589 - accuracy: 0.7049\n",
            "Epoch 15/300\n",
            "26/26 [==============================] - 0s 2ms/step - loss: 0.6261 - accuracy: 0.7061\n",
            "Epoch 16/300\n",
            "26/26 [==============================] - 0s 2ms/step - loss: 0.5950 - accuracy: 0.7317\n",
            "Epoch 17/300\n",
            "26/26 [==============================] - 0s 2ms/step - loss: 0.5590 - accuracy: 0.7585\n",
            "Epoch 18/300\n",
            "26/26 [==============================] - 0s 2ms/step - loss: 0.5438 - accuracy: 0.7610\n",
            "Epoch 19/300\n",
            "26/26 [==============================] - 0s 2ms/step - loss: 0.5304 - accuracy: 0.7622\n",
            "Epoch 20/300\n",
            "26/26 [==============================] - 0s 2ms/step - loss: 0.4949 - accuracy: 0.7841\n",
            "Epoch 21/300\n",
            "26/26 [==============================] - 0s 2ms/step - loss: 0.4895 - accuracy: 0.7817\n",
            "Epoch 22/300\n",
            "26/26 [==============================] - 0s 2ms/step - loss: 0.4909 - accuracy: 0.7793\n",
            "Epoch 23/300\n",
            "26/26 [==============================] - 0s 2ms/step - loss: 0.4828 - accuracy: 0.7963\n",
            "Epoch 24/300\n",
            "26/26 [==============================] - 0s 2ms/step - loss: 0.4697 - accuracy: 0.7963\n",
            "Epoch 25/300\n",
            "26/26 [==============================] - 0s 2ms/step - loss: 0.4706 - accuracy: 0.7817\n",
            "Epoch 26/300\n",
            "26/26 [==============================] - 0s 2ms/step - loss: 0.4470 - accuracy: 0.8134\n",
            "Epoch 27/300\n",
            "26/26 [==============================] - 0s 2ms/step - loss: 0.4401 - accuracy: 0.8183\n",
            "Epoch 28/300\n",
            "26/26 [==============================] - 0s 2ms/step - loss: 0.4439 - accuracy: 0.7902\n",
            "Epoch 29/300\n",
            "26/26 [==============================] - 0s 2ms/step - loss: 0.4496 - accuracy: 0.7805\n",
            "Epoch 30/300\n",
            "26/26 [==============================] - 0s 2ms/step - loss: 0.4441 - accuracy: 0.7878\n",
            "Epoch 31/300\n",
            "26/26 [==============================] - 0s 2ms/step - loss: 0.4359 - accuracy: 0.7988\n",
            "Epoch 32/300\n",
            "26/26 [==============================] - 0s 2ms/step - loss: 0.4176 - accuracy: 0.8317\n",
            "Epoch 33/300\n",
            "26/26 [==============================] - 0s 2ms/step - loss: 0.4280 - accuracy: 0.8073\n",
            "Epoch 34/300\n",
            "26/26 [==============================] - 0s 3ms/step - loss: 0.4156 - accuracy: 0.8268\n",
            "Epoch 35/300\n",
            "26/26 [==============================] - 0s 2ms/step - loss: 0.4128 - accuracy: 0.8232\n",
            "Epoch 36/300\n",
            "26/26 [==============================] - 0s 2ms/step - loss: 0.4141 - accuracy: 0.8268\n",
            "Epoch 37/300\n",
            "26/26 [==============================] - 0s 2ms/step - loss: 0.4107 - accuracy: 0.8293\n",
            "Epoch 38/300\n",
            "26/26 [==============================] - 0s 2ms/step - loss: 0.4167 - accuracy: 0.8159\n",
            "Epoch 39/300\n",
            "26/26 [==============================] - 0s 2ms/step - loss: 0.4081 - accuracy: 0.8256\n",
            "Epoch 40/300\n",
            "26/26 [==============================] - 0s 2ms/step - loss: 0.4241 - accuracy: 0.8061\n",
            "Epoch 41/300\n",
            "26/26 [==============================] - 0s 2ms/step - loss: 0.4154 - accuracy: 0.8073\n",
            "Epoch 42/300\n",
            "26/26 [==============================] - 0s 3ms/step - loss: 0.4127 - accuracy: 0.8183\n",
            "Epoch 43/300\n",
            "26/26 [==============================] - 0s 2ms/step - loss: 0.3995 - accuracy: 0.8378\n",
            "Epoch 44/300\n",
            "26/26 [==============================] - 0s 3ms/step - loss: 0.4072 - accuracy: 0.8207\n",
            "Epoch 45/300\n",
            "26/26 [==============================] - 0s 3ms/step - loss: 0.4027 - accuracy: 0.8207\n",
            "Epoch 46/300\n",
            "26/26 [==============================] - 0s 2ms/step - loss: 0.3909 - accuracy: 0.8415\n",
            "Epoch 47/300\n",
            "26/26 [==============================] - 0s 2ms/step - loss: 0.4069 - accuracy: 0.8280\n",
            "Epoch 48/300\n",
            "26/26 [==============================] - 0s 2ms/step - loss: 0.4089 - accuracy: 0.8183\n",
            "Epoch 49/300\n",
            "26/26 [==============================] - 0s 3ms/step - loss: 0.3936 - accuracy: 0.8341\n",
            "Epoch 50/300\n",
            "26/26 [==============================] - 0s 2ms/step - loss: 0.4194 - accuracy: 0.8085\n",
            "Epoch 51/300\n",
            "26/26 [==============================] - 0s 2ms/step - loss: 0.3956 - accuracy: 0.8390\n",
            "Epoch 52/300\n",
            "26/26 [==============================] - 0s 2ms/step - loss: 0.4140 - accuracy: 0.8061\n",
            "Epoch 53/300\n",
            "26/26 [==============================] - 0s 2ms/step - loss: 0.3924 - accuracy: 0.8366\n",
            "Epoch 54/300\n",
            "26/26 [==============================] - 0s 2ms/step - loss: 0.4180 - accuracy: 0.8110\n",
            "Epoch 55/300\n",
            "26/26 [==============================] - 0s 2ms/step - loss: 0.4069 - accuracy: 0.8195\n",
            "Epoch 56/300\n",
            "26/26 [==============================] - 0s 2ms/step - loss: 0.3851 - accuracy: 0.8427\n",
            "Epoch 57/300\n",
            "26/26 [==============================] - 0s 2ms/step - loss: 0.3953 - accuracy: 0.8329\n",
            "Epoch 58/300\n",
            "26/26 [==============================] - 0s 2ms/step - loss: 0.4089 - accuracy: 0.8159\n",
            "Epoch 59/300\n",
            "26/26 [==============================] - 0s 2ms/step - loss: 0.4247 - accuracy: 0.8012\n",
            "Epoch 60/300\n",
            "26/26 [==============================] - 0s 2ms/step - loss: 0.4099 - accuracy: 0.8159\n",
            "Epoch 61/300\n",
            "26/26 [==============================] - 0s 2ms/step - loss: 0.3819 - accuracy: 0.8524\n",
            "Epoch 62/300\n",
            "26/26 [==============================] - 0s 2ms/step - loss: 0.3889 - accuracy: 0.8390\n",
            "Epoch 63/300\n",
            "26/26 [==============================] - 0s 2ms/step - loss: 0.3859 - accuracy: 0.8268\n",
            "Epoch 64/300\n",
            "26/26 [==============================] - 0s 2ms/step - loss: 0.3941 - accuracy: 0.8244\n",
            "Epoch 65/300\n",
            "26/26 [==============================] - 0s 3ms/step - loss: 0.4026 - accuracy: 0.8366\n",
            "Epoch 66/300\n",
            "26/26 [==============================] - 0s 2ms/step - loss: 0.4057 - accuracy: 0.8171\n",
            "Epoch 67/300\n",
            "26/26 [==============================] - 0s 2ms/step - loss: 0.3922 - accuracy: 0.8317\n",
            "Epoch 68/300\n",
            "26/26 [==============================] - 0s 2ms/step - loss: 0.3996 - accuracy: 0.8232\n",
            "Epoch 69/300\n",
            "26/26 [==============================] - 0s 2ms/step - loss: 0.4096 - accuracy: 0.8146\n",
            "Epoch 70/300\n",
            "26/26 [==============================] - 0s 2ms/step - loss: 0.3848 - accuracy: 0.8451\n",
            "Epoch 71/300\n",
            "26/26 [==============================] - 0s 2ms/step - loss: 0.3841 - accuracy: 0.8378\n",
            "Epoch 72/300\n",
            "26/26 [==============================] - 0s 2ms/step - loss: 0.4222 - accuracy: 0.7927\n",
            "Epoch 73/300\n",
            "26/26 [==============================] - 0s 2ms/step - loss: 0.3984 - accuracy: 0.8341\n",
            "Epoch 74/300\n",
            "26/26 [==============================] - 0s 3ms/step - loss: 0.3757 - accuracy: 0.8463\n",
            "Epoch 75/300\n",
            "26/26 [==============================] - 0s 2ms/step - loss: 0.3814 - accuracy: 0.8341\n",
            "Epoch 76/300\n",
            "26/26 [==============================] - 0s 2ms/step - loss: 0.3774 - accuracy: 0.8439\n",
            "Epoch 77/300\n",
            "26/26 [==============================] - 0s 2ms/step - loss: 0.3775 - accuracy: 0.8451\n",
            "Epoch 78/300\n",
            "26/26 [==============================] - 0s 3ms/step - loss: 0.3842 - accuracy: 0.8378\n",
            "Epoch 79/300\n",
            "26/26 [==============================] - 0s 2ms/step - loss: 0.4058 - accuracy: 0.8146\n",
            "Epoch 80/300\n",
            "26/26 [==============================] - 0s 3ms/step - loss: 0.4159 - accuracy: 0.7915\n",
            "Epoch 81/300\n",
            "26/26 [==============================] - 0s 2ms/step - loss: 0.3814 - accuracy: 0.8390\n",
            "Epoch 82/300\n",
            "26/26 [==============================] - 0s 2ms/step - loss: 0.3847 - accuracy: 0.8463\n",
            "Epoch 83/300\n",
            "26/26 [==============================] - 0s 2ms/step - loss: 0.3860 - accuracy: 0.8427\n",
            "Epoch 84/300\n",
            "26/26 [==============================] - 0s 2ms/step - loss: 0.3883 - accuracy: 0.8463\n",
            "Epoch 85/300\n",
            "26/26 [==============================] - 0s 2ms/step - loss: 0.3787 - accuracy: 0.8512\n",
            "Epoch 86/300\n",
            "26/26 [==============================] - 0s 2ms/step - loss: 0.4002 - accuracy: 0.8476\n",
            "Epoch 87/300\n",
            "26/26 [==============================] - 0s 2ms/step - loss: 0.3809 - accuracy: 0.8378\n",
            "Epoch 88/300\n",
            "26/26 [==============================] - 0s 2ms/step - loss: 0.3783 - accuracy: 0.8390\n",
            "Epoch 89/300\n",
            "26/26 [==============================] - 0s 2ms/step - loss: 0.3843 - accuracy: 0.8317\n",
            "Epoch 90/300\n",
            "26/26 [==============================] - 0s 2ms/step - loss: 0.3812 - accuracy: 0.8439\n",
            "Epoch 91/300\n",
            "26/26 [==============================] - 0s 2ms/step - loss: 0.3850 - accuracy: 0.8256\n",
            "Epoch 92/300\n",
            "26/26 [==============================] - 0s 2ms/step - loss: 0.3887 - accuracy: 0.8207\n",
            "Epoch 93/300\n",
            "26/26 [==============================] - 0s 2ms/step - loss: 0.3853 - accuracy: 0.8366\n",
            "Epoch 94/300\n",
            "26/26 [==============================] - 0s 2ms/step - loss: 0.4001 - accuracy: 0.8061\n",
            "Epoch 95/300\n",
            "26/26 [==============================] - 0s 2ms/step - loss: 0.3830 - accuracy: 0.8390\n",
            "Epoch 96/300\n",
            "26/26 [==============================] - 0s 3ms/step - loss: 0.3770 - accuracy: 0.8427\n",
            "Epoch 97/300\n",
            "26/26 [==============================] - 0s 2ms/step - loss: 0.3858 - accuracy: 0.8390\n",
            "Epoch 98/300\n",
            "26/26 [==============================] - 0s 2ms/step - loss: 0.3763 - accuracy: 0.8439\n",
            "Epoch 99/300\n",
            "26/26 [==============================] - 0s 2ms/step - loss: 0.3979 - accuracy: 0.8244\n",
            "Epoch 100/300\n",
            "26/26 [==============================] - 0s 2ms/step - loss: 0.3820 - accuracy: 0.8402\n",
            "Epoch 101/300\n",
            "26/26 [==============================] - 0s 2ms/step - loss: 0.3925 - accuracy: 0.8293\n",
            "Epoch 102/300\n",
            "26/26 [==============================] - 0s 3ms/step - loss: 0.3982 - accuracy: 0.8159\n",
            "Epoch 103/300\n",
            "26/26 [==============================] - 0s 2ms/step - loss: 0.3804 - accuracy: 0.8329\n",
            "Epoch 104/300\n",
            "26/26 [==============================] - 0s 2ms/step - loss: 0.3761 - accuracy: 0.8463\n",
            "Epoch 105/300\n",
            "26/26 [==============================] - 0s 2ms/step - loss: 0.3840 - accuracy: 0.8354\n",
            "Epoch 106/300\n",
            "26/26 [==============================] - 0s 2ms/step - loss: 0.4005 - accuracy: 0.8207\n",
            "Epoch 107/300\n",
            "26/26 [==============================] - 0s 2ms/step - loss: 0.3813 - accuracy: 0.8378\n",
            "Epoch 108/300\n",
            "26/26 [==============================] - 0s 2ms/step - loss: 0.3753 - accuracy: 0.8378\n",
            "Epoch 109/300\n",
            "26/26 [==============================] - 0s 2ms/step - loss: 0.3726 - accuracy: 0.8512\n",
            "Epoch 110/300\n",
            "26/26 [==============================] - 0s 2ms/step - loss: 0.3759 - accuracy: 0.8378\n",
            "Epoch 111/300\n",
            "26/26 [==============================] - 0s 2ms/step - loss: 0.3818 - accuracy: 0.8439\n",
            "Epoch 112/300\n",
            "26/26 [==============================] - 0s 2ms/step - loss: 0.3861 - accuracy: 0.8402\n",
            "Epoch 113/300\n",
            "26/26 [==============================] - 0s 2ms/step - loss: 0.3911 - accuracy: 0.8268\n",
            "Epoch 114/300\n",
            "26/26 [==============================] - 0s 2ms/step - loss: 0.3786 - accuracy: 0.8402\n",
            "Epoch 115/300\n",
            "26/26 [==============================] - 0s 2ms/step - loss: 0.4046 - accuracy: 0.8183\n",
            "Epoch 116/300\n",
            "26/26 [==============================] - 0s 2ms/step - loss: 0.3767 - accuracy: 0.8390\n",
            "Epoch 117/300\n",
            "26/26 [==============================] - 0s 2ms/step - loss: 0.3744 - accuracy: 0.8512\n",
            "Epoch 118/300\n",
            "26/26 [==============================] - 0s 2ms/step - loss: 0.3833 - accuracy: 0.8305\n",
            "Epoch 119/300\n",
            "26/26 [==============================] - 0s 2ms/step - loss: 0.3994 - accuracy: 0.8293\n",
            "Epoch 120/300\n",
            "26/26 [==============================] - 0s 2ms/step - loss: 0.4465 - accuracy: 0.7902\n",
            "Epoch 121/300\n",
            "26/26 [==============================] - 0s 2ms/step - loss: 0.4114 - accuracy: 0.8061\n",
            "Epoch 122/300\n",
            "26/26 [==============================] - 0s 2ms/step - loss: 0.4080 - accuracy: 0.8244\n",
            "Epoch 123/300\n",
            "26/26 [==============================] - 0s 2ms/step - loss: 0.3885 - accuracy: 0.8378\n",
            "Epoch 124/300\n",
            "26/26 [==============================] - 0s 2ms/step - loss: 0.3742 - accuracy: 0.8390\n",
            "Epoch 125/300\n",
            "26/26 [==============================] - 0s 3ms/step - loss: 0.3794 - accuracy: 0.8451\n",
            "Epoch 126/300\n",
            "26/26 [==============================] - 0s 2ms/step - loss: 0.3737 - accuracy: 0.8512\n",
            "Epoch 127/300\n",
            "26/26 [==============================] - 0s 3ms/step - loss: 0.3735 - accuracy: 0.8512\n",
            "Epoch 128/300\n",
            "26/26 [==============================] - 0s 3ms/step - loss: 0.3722 - accuracy: 0.8390\n",
            "Epoch 129/300\n",
            "26/26 [==============================] - 0s 3ms/step - loss: 0.4003 - accuracy: 0.8256\n",
            "Epoch 130/300\n",
            "26/26 [==============================] - 0s 2ms/step - loss: 0.3786 - accuracy: 0.8402\n",
            "Epoch 131/300\n",
            "26/26 [==============================] - 0s 2ms/step - loss: 0.3847 - accuracy: 0.8317\n",
            "Epoch 132/300\n",
            "26/26 [==============================] - 0s 2ms/step - loss: 0.4029 - accuracy: 0.8256\n",
            "Epoch 133/300\n",
            "26/26 [==============================] - 0s 2ms/step - loss: 0.3909 - accuracy: 0.8280\n",
            "Epoch 134/300\n",
            "26/26 [==============================] - 0s 2ms/step - loss: 0.3757 - accuracy: 0.8439\n",
            "Epoch 135/300\n",
            "26/26 [==============================] - 0s 2ms/step - loss: 0.3736 - accuracy: 0.8439\n",
            "Epoch 136/300\n",
            "26/26 [==============================] - 0s 2ms/step - loss: 0.3757 - accuracy: 0.8488\n",
            "Epoch 137/300\n",
            "26/26 [==============================] - 0s 2ms/step - loss: 0.3872 - accuracy: 0.8256\n",
            "Epoch 138/300\n",
            "26/26 [==============================] - 0s 3ms/step - loss: 0.4105 - accuracy: 0.7976\n",
            "Epoch 139/300\n",
            "26/26 [==============================] - 0s 2ms/step - loss: 0.3987 - accuracy: 0.8293\n",
            "Epoch 140/300\n",
            "26/26 [==============================] - 0s 2ms/step - loss: 0.3868 - accuracy: 0.8341\n",
            "Epoch 141/300\n",
            "26/26 [==============================] - 0s 3ms/step - loss: 0.3746 - accuracy: 0.8402\n",
            "Epoch 142/300\n",
            "26/26 [==============================] - 0s 3ms/step - loss: 0.3771 - accuracy: 0.8402\n",
            "Epoch 143/300\n",
            "26/26 [==============================] - 0s 2ms/step - loss: 0.4347 - accuracy: 0.8000\n",
            "Epoch 144/300\n",
            "26/26 [==============================] - 0s 2ms/step - loss: 0.3840 - accuracy: 0.8341\n",
            "Epoch 145/300\n",
            "26/26 [==============================] - 0s 3ms/step - loss: 0.3816 - accuracy: 0.8415\n",
            "Epoch 146/300\n",
            "26/26 [==============================] - 0s 2ms/step - loss: 0.3690 - accuracy: 0.8549\n",
            "Epoch 147/300\n",
            "26/26 [==============================] - 0s 2ms/step - loss: 0.3953 - accuracy: 0.8171\n",
            "Epoch 148/300\n",
            "26/26 [==============================] - 0s 2ms/step - loss: 0.3733 - accuracy: 0.8476\n",
            "Epoch 149/300\n",
            "26/26 [==============================] - 0s 3ms/step - loss: 0.3768 - accuracy: 0.8451\n",
            "Epoch 150/300\n",
            "26/26 [==============================] - 0s 2ms/step - loss: 0.3859 - accuracy: 0.8488\n",
            "Epoch 151/300\n",
            "26/26 [==============================] - 0s 2ms/step - loss: 0.3785 - accuracy: 0.8476\n",
            "Epoch 152/300\n",
            "26/26 [==============================] - 0s 2ms/step - loss: 0.3686 - accuracy: 0.8488\n",
            "Epoch 153/300\n",
            "26/26 [==============================] - 0s 2ms/step - loss: 0.4067 - accuracy: 0.8134\n",
            "Epoch 154/300\n",
            "26/26 [==============================] - 0s 2ms/step - loss: 0.4117 - accuracy: 0.8049\n",
            "Epoch 155/300\n",
            "26/26 [==============================] - 0s 2ms/step - loss: 0.3822 - accuracy: 0.8366\n",
            "Epoch 156/300\n",
            "26/26 [==============================] - 0s 3ms/step - loss: 0.3841 - accuracy: 0.8329\n",
            "Epoch 157/300\n",
            "26/26 [==============================] - 0s 2ms/step - loss: 0.3789 - accuracy: 0.8463\n",
            "Epoch 158/300\n",
            "26/26 [==============================] - 0s 2ms/step - loss: 0.3788 - accuracy: 0.8500\n",
            "Epoch 159/300\n",
            "26/26 [==============================] - 0s 2ms/step - loss: 0.3705 - accuracy: 0.8622\n",
            "Epoch 160/300\n",
            "26/26 [==============================] - 0s 2ms/step - loss: 0.3874 - accuracy: 0.8171\n",
            "Epoch 161/300\n",
            "26/26 [==============================] - 0s 2ms/step - loss: 0.4035 - accuracy: 0.8341\n",
            "Epoch 162/300\n",
            "26/26 [==============================] - 0s 2ms/step - loss: 0.3965 - accuracy: 0.8146\n",
            "Epoch 163/300\n",
            "26/26 [==============================] - 0s 3ms/step - loss: 0.3751 - accuracy: 0.8476\n",
            "Epoch 164/300\n",
            "26/26 [==============================] - 0s 2ms/step - loss: 0.3923 - accuracy: 0.8305\n",
            "Epoch 165/300\n",
            "26/26 [==============================] - 0s 3ms/step - loss: 0.3776 - accuracy: 0.8293\n",
            "Epoch 166/300\n",
            "26/26 [==============================] - 0s 2ms/step - loss: 0.3960 - accuracy: 0.8244\n",
            "Epoch 167/300\n",
            "26/26 [==============================] - 0s 2ms/step - loss: 0.3727 - accuracy: 0.8537\n",
            "Epoch 168/300\n",
            "26/26 [==============================] - 0s 2ms/step - loss: 0.3732 - accuracy: 0.8451\n",
            "Epoch 169/300\n",
            "26/26 [==============================] - 0s 2ms/step - loss: 0.3748 - accuracy: 0.8500\n",
            "Epoch 170/300\n",
            "26/26 [==============================] - 0s 2ms/step - loss: 0.3877 - accuracy: 0.8293\n",
            "Epoch 171/300\n",
            "26/26 [==============================] - 0s 3ms/step - loss: 0.3766 - accuracy: 0.8402\n",
            "Epoch 172/300\n",
            "26/26 [==============================] - 0s 2ms/step - loss: 0.3761 - accuracy: 0.8366\n",
            "Epoch 173/300\n",
            "26/26 [==============================] - 0s 2ms/step - loss: 0.3761 - accuracy: 0.8415\n",
            "Epoch 174/300\n",
            "26/26 [==============================] - 0s 2ms/step - loss: 0.3780 - accuracy: 0.8366\n",
            "Epoch 175/300\n",
            "26/26 [==============================] - 0s 2ms/step - loss: 0.3913 - accuracy: 0.8061\n",
            "Epoch 176/300\n",
            "26/26 [==============================] - 0s 2ms/step - loss: 0.3915 - accuracy: 0.8268\n",
            "Epoch 177/300\n",
            "26/26 [==============================] - 0s 2ms/step - loss: 0.3771 - accuracy: 0.8488\n",
            "Epoch 178/300\n",
            "26/26 [==============================] - 0s 2ms/step - loss: 0.3798 - accuracy: 0.8415\n",
            "Epoch 179/300\n",
            "26/26 [==============================] - 0s 2ms/step - loss: 0.3829 - accuracy: 0.8402\n",
            "Epoch 180/300\n",
            "26/26 [==============================] - 0s 2ms/step - loss: 0.3823 - accuracy: 0.8390\n",
            "Epoch 181/300\n",
            "26/26 [==============================] - 0s 2ms/step - loss: 0.3716 - accuracy: 0.8476\n",
            "Epoch 182/300\n",
            "26/26 [==============================] - 0s 2ms/step - loss: 0.3763 - accuracy: 0.8366\n",
            "Epoch 183/300\n",
            "26/26 [==============================] - 0s 2ms/step - loss: 0.3854 - accuracy: 0.8354\n",
            "Epoch 184/300\n",
            "26/26 [==============================] - 0s 2ms/step - loss: 0.3896 - accuracy: 0.8354\n",
            "Epoch 185/300\n",
            "26/26 [==============================] - 0s 2ms/step - loss: 0.3720 - accuracy: 0.8463\n",
            "Epoch 186/300\n",
            "26/26 [==============================] - 0s 3ms/step - loss: 0.3911 - accuracy: 0.8256\n",
            "Epoch 187/300\n",
            "26/26 [==============================] - 0s 2ms/step - loss: 0.3750 - accuracy: 0.8512\n",
            "Epoch 188/300\n",
            "26/26 [==============================] - 0s 2ms/step - loss: 0.3979 - accuracy: 0.8207\n",
            "Epoch 189/300\n",
            "26/26 [==============================] - 0s 2ms/step - loss: 0.3903 - accuracy: 0.8415\n",
            "Epoch 190/300\n",
            "26/26 [==============================] - 0s 2ms/step - loss: 0.3916 - accuracy: 0.8354\n",
            "Epoch 191/300\n",
            "26/26 [==============================] - 0s 2ms/step - loss: 0.3848 - accuracy: 0.8415\n",
            "Epoch 192/300\n",
            "26/26 [==============================] - 0s 2ms/step - loss: 0.3950 - accuracy: 0.8207\n",
            "Epoch 193/300\n",
            "26/26 [==============================] - 0s 2ms/step - loss: 0.3729 - accuracy: 0.8439\n",
            "Epoch 194/300\n",
            "26/26 [==============================] - 0s 2ms/step - loss: 0.3965 - accuracy: 0.8207\n",
            "Epoch 195/300\n",
            "26/26 [==============================] - 0s 2ms/step - loss: 0.3712 - accuracy: 0.8537\n",
            "Epoch 196/300\n",
            "26/26 [==============================] - 0s 2ms/step - loss: 0.3895 - accuracy: 0.8439\n",
            "Epoch 197/300\n",
            "26/26 [==============================] - 0s 2ms/step - loss: 0.3762 - accuracy: 0.8439\n",
            "Epoch 198/300\n",
            "26/26 [==============================] - 0s 2ms/step - loss: 0.3910 - accuracy: 0.8061\n",
            "Epoch 199/300\n",
            "26/26 [==============================] - 0s 2ms/step - loss: 0.4101 - accuracy: 0.8317\n",
            "Epoch 200/300\n",
            "26/26 [==============================] - 0s 2ms/step - loss: 0.3728 - accuracy: 0.8402\n",
            "Epoch 201/300\n",
            "26/26 [==============================] - 0s 2ms/step - loss: 0.3701 - accuracy: 0.8524\n",
            "Epoch 202/300\n",
            "26/26 [==============================] - 0s 2ms/step - loss: 0.3764 - accuracy: 0.8463\n",
            "Epoch 203/300\n",
            "26/26 [==============================] - 0s 3ms/step - loss: 0.4029 - accuracy: 0.8220\n",
            "Epoch 204/300\n",
            "26/26 [==============================] - 0s 2ms/step - loss: 0.3823 - accuracy: 0.8280\n",
            "Epoch 205/300\n",
            "26/26 [==============================] - 0s 2ms/step - loss: 0.3788 - accuracy: 0.8378\n",
            "Epoch 206/300\n",
            "26/26 [==============================] - 0s 2ms/step - loss: 0.4087 - accuracy: 0.8012\n",
            "Epoch 207/300\n",
            "26/26 [==============================] - 0s 2ms/step - loss: 0.3764 - accuracy: 0.8451\n",
            "Epoch 208/300\n",
            "26/26 [==============================] - 0s 2ms/step - loss: 0.3721 - accuracy: 0.8524\n",
            "Epoch 209/300\n",
            "26/26 [==============================] - 0s 2ms/step - loss: 0.3707 - accuracy: 0.8439\n",
            "Epoch 210/300\n",
            "26/26 [==============================] - 0s 2ms/step - loss: 0.3697 - accuracy: 0.8598\n",
            "Epoch 211/300\n",
            "26/26 [==============================] - 0s 2ms/step - loss: 0.3747 - accuracy: 0.8476\n",
            "Epoch 212/300\n",
            "26/26 [==============================] - 0s 2ms/step - loss: 0.3702 - accuracy: 0.8537\n",
            "Epoch 213/300\n",
            "26/26 [==============================] - 0s 2ms/step - loss: 0.3785 - accuracy: 0.8463\n",
            "Epoch 214/300\n",
            "26/26 [==============================] - 0s 2ms/step - loss: 0.3904 - accuracy: 0.8341\n",
            "Epoch 215/300\n",
            "26/26 [==============================] - 0s 2ms/step - loss: 0.3751 - accuracy: 0.8488\n",
            "Epoch 216/300\n",
            "26/26 [==============================] - 0s 2ms/step - loss: 0.3808 - accuracy: 0.8390\n",
            "Epoch 217/300\n",
            "26/26 [==============================] - 0s 2ms/step - loss: 0.4042 - accuracy: 0.8256\n",
            "Epoch 218/300\n",
            "26/26 [==============================] - 0s 2ms/step - loss: 0.3727 - accuracy: 0.8537\n",
            "Epoch 219/300\n",
            "26/26 [==============================] - 0s 3ms/step - loss: 0.3756 - accuracy: 0.8476\n",
            "Epoch 220/300\n",
            "26/26 [==============================] - 0s 2ms/step - loss: 0.3796 - accuracy: 0.8341\n",
            "Epoch 221/300\n",
            "26/26 [==============================] - 0s 2ms/step - loss: 0.4253 - accuracy: 0.8122\n",
            "Epoch 222/300\n",
            "26/26 [==============================] - 0s 2ms/step - loss: 0.3909 - accuracy: 0.8354\n",
            "Epoch 223/300\n",
            "26/26 [==============================] - 0s 2ms/step - loss: 0.3708 - accuracy: 0.8341\n",
            "Epoch 224/300\n",
            "26/26 [==============================] - 0s 2ms/step - loss: 0.3803 - accuracy: 0.8354\n",
            "Epoch 225/300\n",
            "26/26 [==============================] - 0s 2ms/step - loss: 0.3769 - accuracy: 0.8366\n",
            "Epoch 226/300\n",
            "26/26 [==============================] - 0s 3ms/step - loss: 0.3838 - accuracy: 0.8354\n",
            "Epoch 227/300\n",
            "26/26 [==============================] - 0s 2ms/step - loss: 0.3753 - accuracy: 0.8463\n",
            "Epoch 228/300\n",
            "26/26 [==============================] - 0s 3ms/step - loss: 0.3680 - accuracy: 0.8451\n",
            "Epoch 229/300\n",
            "26/26 [==============================] - 0s 2ms/step - loss: 0.3692 - accuracy: 0.8549\n",
            "Epoch 230/300\n",
            "26/26 [==============================] - 0s 2ms/step - loss: 0.3694 - accuracy: 0.8463\n",
            "Epoch 231/300\n",
            "26/26 [==============================] - 0s 2ms/step - loss: 0.3731 - accuracy: 0.8488\n",
            "Epoch 232/300\n",
            "26/26 [==============================] - 0s 2ms/step - loss: 0.3880 - accuracy: 0.8171\n",
            "Epoch 233/300\n",
            "26/26 [==============================] - 0s 2ms/step - loss: 0.4322 - accuracy: 0.8171\n",
            "Epoch 234/300\n",
            "26/26 [==============================] - 0s 3ms/step - loss: 0.3995 - accuracy: 0.8146\n",
            "Epoch 235/300\n",
            "26/26 [==============================] - 0s 2ms/step - loss: 0.3957 - accuracy: 0.8305\n",
            "Epoch 236/300\n",
            "26/26 [==============================] - 0s 2ms/step - loss: 0.3933 - accuracy: 0.8220\n",
            "Epoch 237/300\n",
            "26/26 [==============================] - 0s 2ms/step - loss: 0.4104 - accuracy: 0.8207\n",
            "Epoch 238/300\n",
            "26/26 [==============================] - 0s 2ms/step - loss: 0.3832 - accuracy: 0.8305\n",
            "Epoch 239/300\n",
            "26/26 [==============================] - 0s 3ms/step - loss: 0.3653 - accuracy: 0.8366\n",
            "Epoch 240/300\n",
            "26/26 [==============================] - 0s 2ms/step - loss: 0.3962 - accuracy: 0.8268\n",
            "Epoch 241/300\n",
            "26/26 [==============================] - 0s 2ms/step - loss: 0.3912 - accuracy: 0.8256\n",
            "Epoch 242/300\n",
            "26/26 [==============================] - 0s 2ms/step - loss: 0.3883 - accuracy: 0.8354\n",
            "Epoch 243/300\n",
            "26/26 [==============================] - 0s 2ms/step - loss: 0.3689 - accuracy: 0.8488\n",
            "Epoch 244/300\n",
            "26/26 [==============================] - 0s 2ms/step - loss: 0.3771 - accuracy: 0.8476\n",
            "Epoch 245/300\n",
            "26/26 [==============================] - 0s 2ms/step - loss: 0.3718 - accuracy: 0.8451\n",
            "Epoch 246/300\n",
            "26/26 [==============================] - 0s 2ms/step - loss: 0.3815 - accuracy: 0.8317\n",
            "Epoch 247/300\n",
            "26/26 [==============================] - 0s 2ms/step - loss: 0.3842 - accuracy: 0.8329\n",
            "Epoch 248/300\n",
            "26/26 [==============================] - 0s 2ms/step - loss: 0.3661 - accuracy: 0.8463\n",
            "Epoch 249/300\n",
            "26/26 [==============================] - 0s 3ms/step - loss: 0.3815 - accuracy: 0.8378\n",
            "Epoch 250/300\n",
            "26/26 [==============================] - 0s 3ms/step - loss: 0.3890 - accuracy: 0.8293\n",
            "Epoch 251/300\n",
            "26/26 [==============================] - 0s 2ms/step - loss: 0.3781 - accuracy: 0.8451\n",
            "Epoch 252/300\n",
            "26/26 [==============================] - 0s 2ms/step - loss: 0.3741 - accuracy: 0.8402\n",
            "Epoch 253/300\n",
            "26/26 [==============================] - 0s 2ms/step - loss: 0.3860 - accuracy: 0.8293\n",
            "Epoch 254/300\n",
            "26/26 [==============================] - 0s 2ms/step - loss: 0.3752 - accuracy: 0.8268\n",
            "Epoch 255/300\n",
            "26/26 [==============================] - 0s 2ms/step - loss: 0.3880 - accuracy: 0.8293\n",
            "Epoch 256/300\n",
            "26/26 [==============================] - 0s 2ms/step - loss: 0.3837 - accuracy: 0.8402\n",
            "Epoch 257/300\n",
            "26/26 [==============================] - 0s 2ms/step - loss: 0.3736 - accuracy: 0.8378\n",
            "Epoch 258/300\n",
            "26/26 [==============================] - 0s 2ms/step - loss: 0.3792 - accuracy: 0.8305\n",
            "Epoch 259/300\n",
            "26/26 [==============================] - 0s 2ms/step - loss: 0.3959 - accuracy: 0.8183\n",
            "Epoch 260/300\n",
            "26/26 [==============================] - 0s 2ms/step - loss: 0.3800 - accuracy: 0.8329\n",
            "Epoch 261/300\n",
            "26/26 [==============================] - 0s 2ms/step - loss: 0.3764 - accuracy: 0.8500\n",
            "Epoch 262/300\n",
            "26/26 [==============================] - 0s 2ms/step - loss: 0.3739 - accuracy: 0.8537\n",
            "Epoch 263/300\n",
            "26/26 [==============================] - 0s 2ms/step - loss: 0.3773 - accuracy: 0.8500\n",
            "Epoch 264/300\n",
            "26/26 [==============================] - 0s 3ms/step - loss: 0.3842 - accuracy: 0.8415\n",
            "Epoch 265/300\n",
            "26/26 [==============================] - 0s 3ms/step - loss: 0.3784 - accuracy: 0.8354\n",
            "Epoch 266/300\n",
            "26/26 [==============================] - 0s 2ms/step - loss: 0.3762 - accuracy: 0.8354\n",
            "Epoch 267/300\n",
            "26/26 [==============================] - 0s 2ms/step - loss: 0.3856 - accuracy: 0.8390\n",
            "Epoch 268/300\n",
            "26/26 [==============================] - 0s 2ms/step - loss: 0.3848 - accuracy: 0.8366\n",
            "Epoch 269/300\n",
            "26/26 [==============================] - 0s 2ms/step - loss: 0.3697 - accuracy: 0.8488\n",
            "Epoch 270/300\n",
            "26/26 [==============================] - 0s 2ms/step - loss: 0.3653 - accuracy: 0.8451\n",
            "Epoch 271/300\n",
            "26/26 [==============================] - 0s 2ms/step - loss: 0.3782 - accuracy: 0.8280\n",
            "Epoch 272/300\n",
            "26/26 [==============================] - 0s 2ms/step - loss: 0.3876 - accuracy: 0.8402\n",
            "Epoch 273/300\n",
            "26/26 [==============================] - 0s 2ms/step - loss: 0.3715 - accuracy: 0.8561\n",
            "Epoch 274/300\n",
            "26/26 [==============================] - 0s 2ms/step - loss: 0.3818 - accuracy: 0.8256\n",
            "Epoch 275/300\n",
            "26/26 [==============================] - 0s 2ms/step - loss: 0.3965 - accuracy: 0.8183\n",
            "Epoch 276/300\n",
            "26/26 [==============================] - 0s 2ms/step - loss: 0.3727 - accuracy: 0.8512\n",
            "Epoch 277/300\n",
            "26/26 [==============================] - 0s 2ms/step - loss: 0.3757 - accuracy: 0.8390\n",
            "Epoch 278/300\n",
            "26/26 [==============================] - 0s 3ms/step - loss: 0.3883 - accuracy: 0.8244\n",
            "Epoch 279/300\n",
            "26/26 [==============================] - 0s 2ms/step - loss: 0.3710 - accuracy: 0.8463\n",
            "Epoch 280/300\n",
            "26/26 [==============================] - 0s 3ms/step - loss: 0.3804 - accuracy: 0.8305\n",
            "Epoch 281/300\n",
            "26/26 [==============================] - 0s 2ms/step - loss: 0.3777 - accuracy: 0.8366\n",
            "Epoch 282/300\n",
            "26/26 [==============================] - 0s 2ms/step - loss: 0.4065 - accuracy: 0.8280\n",
            "Epoch 283/300\n",
            "26/26 [==============================] - 0s 2ms/step - loss: 0.3794 - accuracy: 0.8244\n",
            "Epoch 284/300\n",
            "26/26 [==============================] - 0s 3ms/step - loss: 0.3783 - accuracy: 0.8415\n",
            "Epoch 285/300\n",
            "26/26 [==============================] - 0s 2ms/step - loss: 0.3737 - accuracy: 0.8366\n",
            "Epoch 286/300\n",
            "26/26 [==============================] - 0s 2ms/step - loss: 0.3733 - accuracy: 0.8476\n",
            "Epoch 287/300\n",
            "26/26 [==============================] - 0s 2ms/step - loss: 0.3716 - accuracy: 0.8488\n",
            "Epoch 288/300\n",
            "26/26 [==============================] - 0s 2ms/step - loss: 0.4024 - accuracy: 0.8207\n",
            "Epoch 289/300\n",
            "26/26 [==============================] - 0s 2ms/step - loss: 0.4085 - accuracy: 0.8195\n",
            "Epoch 290/300\n",
            "26/26 [==============================] - 0s 2ms/step - loss: 0.3807 - accuracy: 0.8354\n",
            "Epoch 291/300\n",
            "26/26 [==============================] - 0s 2ms/step - loss: 0.3968 - accuracy: 0.8146\n",
            "Epoch 292/300\n",
            "26/26 [==============================] - 0s 2ms/step - loss: 0.4190 - accuracy: 0.8098\n",
            "Epoch 293/300\n",
            "26/26 [==============================] - 0s 2ms/step - loss: 0.4027 - accuracy: 0.8305\n",
            "Epoch 294/300\n",
            "26/26 [==============================] - 0s 2ms/step - loss: 0.3786 - accuracy: 0.8439\n",
            "Epoch 295/300\n",
            "26/26 [==============================] - 0s 3ms/step - loss: 0.3797 - accuracy: 0.8244\n",
            "Epoch 296/300\n",
            "26/26 [==============================] - 0s 2ms/step - loss: 0.3811 - accuracy: 0.8415\n",
            "Epoch 297/300\n",
            "26/26 [==============================] - 0s 2ms/step - loss: 0.3738 - accuracy: 0.8500\n",
            "Epoch 298/300\n",
            "26/26 [==============================] - 0s 2ms/step - loss: 0.3791 - accuracy: 0.8439\n",
            "Epoch 299/300\n",
            "26/26 [==============================] - 0s 2ms/step - loss: 0.3742 - accuracy: 0.8549\n",
            "Epoch 300/300\n",
            "26/26 [==============================] - 0s 3ms/step - loss: 0.3913 - accuracy: 0.8232\n"
          ]
        },
        {
          "data": {
            "text/plain": [
              "<keras.callbacks.History at 0x7ff30fe40e90>"
            ]
          },
          "execution_count": 55,
          "metadata": {},
          "output_type": "execute_result"
        }
      ],
      "source": [
        "from keras.models import Sequential\n",
        "from keras.layers import Dense\n",
        "model = Sequential()\n",
        "model.add(Dense(11,activation='relu',input_dim=13))\n",
        "model.add(Dense(1,activation='sigmoid'))\n",
        "\n",
        "model.compile(loss='binary_crossentropy',optimizer='adam',metrics=['accuracy'])\n",
        "model.fit(X_train,Y_train,epochs=300)"
      ]
    },
    {
      "cell_type": "code",
      "execution_count": null,
      "metadata": {
        "colab": {
          "background_save": true,
          "base_uri": "https://localhost:8080/"
        },
        "id": "30YEAZTtw8nM",
        "outputId": "9ff4bd85-058c-4495-a04b-3ba0ff41a6c1"
      },
      "outputs": [
        {
          "name": "stdout",
          "output_type": "stream",
          "text": [
            "7/7 [==============================] - 0s 2ms/step\n"
          ]
        }
      ],
      "source": [
        "Y_pred_nn = model.predict(X_test)"
      ]
    },
    {
      "cell_type": "code",
      "execution_count": null,
      "metadata": {
        "colab": {
          "background_save": true,
          "base_uri": "https://localhost:8080/"
        },
        "id": "FxPelOI_xAGm",
        "outputId": "eb17882f-31df-49b1-fe86-8ac5e2aacdef"
      },
      "outputs": [
        {
          "data": {
            "text/plain": [
              "(205, 1)"
            ]
          },
          "execution_count": 57,
          "metadata": {},
          "output_type": "execute_result"
        }
      ],
      "source": [
        "Y_pred_nn.shape"
      ]
    },
    {
      "cell_type": "code",
      "execution_count": null,
      "metadata": {
        "id": "QeJOIS73xDAv"
      },
      "outputs": [],
      "source": [
        "Y_pred_nn = [round(x[0]) for x in Y_pred_nn]"
      ]
    },
    {
      "cell_type": "code",
      "execution_count": null,
      "metadata": {
        "colab": {
          "base_uri": "https://localhost:8080/"
        },
        "id": "kCHtzYBUxEPk",
        "outputId": "855c751b-e581-4acb-97b1-781f9a2d9167"
      },
      "outputs": [
        {
          "output_type": "stream",
          "name": "stdout",
          "text": [
            "The accuracy score achieved using Neural Network is: 84.88 %\n"
          ]
        }
      ],
      "source": [
        "score_nn = round(accuracy_score(Y_pred_nn,Y_test)*100,2)\n",
        "\n",
        "print(\"The accuracy score achieved using Neural Network is: \"+str(score_nn)+\" %\")"
      ]
    },
    {
      "cell_type": "code",
      "execution_count": null,
      "metadata": {
        "colab": {
          "base_uri": "https://localhost:8080/"
        },
        "id": "Wu3H5hUWxGhk",
        "outputId": "e0d44c8a-1c82-497b-e579-c0dab7eaeaf5"
      },
      "outputs": [
        {
          "output_type": "stream",
          "name": "stdout",
          "text": [
            "Evaluation metrics for Neural Networks model are:\n",
            "\n",
            "F1 score:  0.8480719118315044\n",
            "Recall:  0.8646202282565918\n",
            "Precision:  0.8534236124356285\n",
            "Accuracy:  0.848780487804878\n",
            "FBeta Square:  0.8487146686159844\n",
            "\n"
          ]
        }
      ],
      "source": [
        "print(\"Evaluation metrics for Neural Networks model are:\")\n",
        "print()\n",
        "\n",
        "print('F1 score: ',f1_score(Y_pred_nn,Y_test, average='macro') )\n",
        "print('Recall: ',recall_score(Y_pred_nn,Y_test, average='macro') )\n",
        "print('Precision: ',precision_score(Y_pred_nn,Y_test, average='macro') )\n",
        "print('Accuracy: ',accuracy_score(Y_pred_nn,Y_test) )\n",
        "print('FBeta Square: ',fbeta_score(Y_pred_nn,Y_test,average='macro',beta=0.5))\n",
        "print()"
      ]
    },
    {
      "cell_type": "markdown",
      "metadata": {
        "id": "lZtemO4uZUjO"
      },
      "source": [
        "## VI. Output final score"
      ]
    },
    {
      "cell_type": "code",
      "execution_count": null,
      "metadata": {
        "colab": {
          "base_uri": "https://localhost:8080/"
        },
        "id": "wf1CKwPsZUjO",
        "outputId": "d6b4181c-474b-4a08-f878-ffe49a159f4c"
      },
      "outputs": [
        {
          "output_type": "stream",
          "name": "stdout",
          "text": [
            "The accuracy score achieved using Logistic Regression is: 86.34 %\n",
            "The accuracy score achieved using Naive Bayes is: 85.37 %\n",
            "The accuracy score achieved using Support Vector Machine is: 83.9 %\n",
            "The accuracy score achieved using K-Nearest Neighbors is: 72.2 %\n",
            "The accuracy score achieved using Neural Networks is: 84.88 %\n"
          ]
        }
      ],
      "source": [
        "scores = [score_lr,score_nb,score_svm,score_knn,score_nn]\n",
        "algorithms = [\"Logistic Regression\",\"Naive Bayes\",\"Support Vector Machine\",\"K-Nearest Neighbors\", \"Neural Networks\"]\n",
        "\n",
        "for i in range(len(algorithms)):\n",
        "    print(\"The accuracy score achieved using \"+algorithms[i]+\" is: \"+str(scores[i])+\" %\")"
      ]
    },
    {
      "cell_type": "code",
      "execution_count": null,
      "metadata": {
        "colab": {
          "base_uri": "https://localhost:8080/",
          "height": 574
        },
        "id": "F6vKNWnrZUjO",
        "outputId": "5902bb32-5293-441d-fd0f-1e7bb21a3b96"
      },
      "outputs": [
        {
          "output_type": "stream",
          "name": "stderr",
          "text": [
            "/usr/local/lib/python3.7/dist-packages/seaborn/_decorators.py:43: FutureWarning: Pass the following variables as keyword args: x, y. From version 0.12, the only valid positional argument will be `data`, and passing other arguments without an explicit keyword will result in an error or misinterpretation.\n",
            "  FutureWarning\n"
          ]
        },
        {
          "output_type": "execute_result",
          "data": {
            "text/plain": [
              "<matplotlib.axes._subplots.AxesSubplot at 0x7ff30ceb6910>"
            ]
          },
          "metadata": {},
          "execution_count": 69
        },
        {
          "output_type": "display_data",
          "data": {
            "text/plain": [
              "<Figure size 1080x576 with 1 Axes>"
            ],
            "image/png": "[encoded data removed]"
          },
          "metadata": {}
        }
      ],
      "source": [
        "sns.set(rc={'figure.figsize':(15,8)})\n",
        "plt.xlabel(\"Algorithms\")\n",
        "plt.ylabel(\"Accuracy score\")\n",
        "\n",
        "sns.barplot(algorithms,scores)"
      ]
    }
  ],
  "metadata": {
    "colab": {
      "collapsed_sections": [
        "7qJHRWkXZUjI",
        "YJLz564GZUjI",
        "x2bZ7Uz3ZUjJ",
        "AOd-F13fZUjJ",
        "3-1OT9AeZUjJ",
        "QYTPGEPuZUjK",
        "HRb6yf3FZUjK"
      ],
      "provenance": []
    },
    "kernelspec": {
      "display_name": "Python 3",
      "language": "python",
      "name": "python3"
    },
    "language_info": {
      "codemirror_mode": {
        "name": "ipython",
        "version": 3
      },
      "file_extension": ".py",
      "mimetype": "text/x-python",
      "name": "python",
      "nbconvert_exporter": "python",
      "pygments_lexer": "ipython3",
      "version": "3.6.2"
    }
  },
  "nbformat": 4,
  "nbformat_minor": 0
}